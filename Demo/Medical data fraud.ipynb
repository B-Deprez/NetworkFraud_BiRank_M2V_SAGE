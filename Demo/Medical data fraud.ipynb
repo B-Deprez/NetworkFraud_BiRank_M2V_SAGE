{
 "cells": [
  {
   "cell_type": "markdown",
   "id": "af930dfc",
   "metadata": {},
   "source": [
    "# Demo Fraud Detection"
   ]
  },
  {
   "cell_type": "markdown",
   "id": "5f33aa2b",
   "metadata": {},
   "source": [
    "## Intro"
   ]
  },
  {
   "cell_type": "markdown",
   "id": "573e4fdf",
   "metadata": {},
   "source": [
    "In this notebook, we give a demo of how to use social network analysis for insurance fraud detection. \n",
    "\n",
    "The data for this analysis is taken from Kaggle https://www.kaggle.com/datasets/rohitrox/healthcare-provider-fraud-detection-analysis in order to ensure repreducibility. \n",
    "\n",
    "We are going to start with loading the necessary packages and own implementation of the methods. Afterwards, we inspect the data. With these insights, we construct the network on which we will do further analyses. "
   ]
  },
  {
   "cell_type": "code",
   "execution_count": 1,
   "id": "a0d49463",
   "metadata": {},
   "outputs": [],
   "source": [
    "from HelperFunctions import load_network\n",
    "import pickle as pkl\n",
    "import pandas as pd\n",
    "import numpy as np\n",
    "import excecute\n",
    "from HelperFunctions import to_bipartite, feature_engineering\n",
    "from BiRank import *\n",
    "from metapath2vec import *\n",
    "from stellargraph import StellarGraph\n",
    "import networkx as nx\n",
    "import Metrics\n",
    "import scipy as sp\n",
    "\n",
    "from sklearn import metrics\n",
    "import matplotlib.pyplot as plt\n",
    "\n",
    "from sklearn.ensemble import GradientBoostingClassifier"
   ]
  },
  {
   "cell_type": "markdown",
   "id": "73365426",
   "metadata": {},
   "source": [
    "## Data Loading"
   ]
  },
  {
   "cell_type": "markdown",
   "id": "bdaf788b",
   "metadata": {},
   "source": [
    "There are two sorts of patients, both of which we will use. The Inpatient data consists of patients that were admitted to the hospital, while the Outpatient data covers patients that visited the hospital, but were not admitted in it. Addtional fraud labels are present in a seperate data set. There are only fraud labels for the health care providers. Hence, we are  going to look for suspicious providers, not claims. "
   ]
  },
  {
   "cell_type": "code",
   "execution_count": 2,
   "id": "ca1af6b6",
   "metadata": {},
   "outputs": [],
   "source": [
    "Incoming = pd.read_csv(\"data/archive (1)/Train_Inpatientdata-1542865627584.csv\")\n",
    "Outgoing = pd.read_csv(\"data/archive (1)/Train_Outpatientdata-1542865627584.csv\")\n",
    "labels = pd.read_csv(\"data/archive (1)/Train-1542865627584.csv\")"
   ]
  },
  {
   "cell_type": "markdown",
   "id": "9f181eda",
   "metadata": {},
   "source": [
    "Below, we do a very quick inspection of the different tables, in order to have a sense of the naming of the different features, and the format in which the fraud labels are provided. "
   ]
  },
  {
   "cell_type": "code",
   "execution_count": 3,
   "id": "50cb8875",
   "metadata": {},
   "outputs": [
    {
     "data": {
      "text/html": [
       "<div>\n",
       "<style scoped>\n",
       "    .dataframe tbody tr th:only-of-type {\n",
       "        vertical-align: middle;\n",
       "    }\n",
       "\n",
       "    .dataframe tbody tr th {\n",
       "        vertical-align: top;\n",
       "    }\n",
       "\n",
       "    .dataframe thead th {\n",
       "        text-align: right;\n",
       "    }\n",
       "</style>\n",
       "<table border=\"1\" class=\"dataframe\">\n",
       "  <thead>\n",
       "    <tr style=\"text-align: right;\">\n",
       "      <th></th>\n",
       "      <th>BeneID</th>\n",
       "      <th>ClaimID</th>\n",
       "      <th>ClaimStartDt</th>\n",
       "      <th>ClaimEndDt</th>\n",
       "      <th>Provider</th>\n",
       "      <th>InscClaimAmtReimbursed</th>\n",
       "      <th>AttendingPhysician</th>\n",
       "      <th>OperatingPhysician</th>\n",
       "      <th>OtherPhysician</th>\n",
       "      <th>AdmissionDt</th>\n",
       "      <th>...</th>\n",
       "      <th>ClmDiagnosisCode_7</th>\n",
       "      <th>ClmDiagnosisCode_8</th>\n",
       "      <th>ClmDiagnosisCode_9</th>\n",
       "      <th>ClmDiagnosisCode_10</th>\n",
       "      <th>ClmProcedureCode_1</th>\n",
       "      <th>ClmProcedureCode_2</th>\n",
       "      <th>ClmProcedureCode_3</th>\n",
       "      <th>ClmProcedureCode_4</th>\n",
       "      <th>ClmProcedureCode_5</th>\n",
       "      <th>ClmProcedureCode_6</th>\n",
       "    </tr>\n",
       "  </thead>\n",
       "  <tbody>\n",
       "    <tr>\n",
       "      <th>0</th>\n",
       "      <td>BENE11001</td>\n",
       "      <td>CLM46614</td>\n",
       "      <td>2009-04-12</td>\n",
       "      <td>2009-04-18</td>\n",
       "      <td>PRV55912</td>\n",
       "      <td>26000</td>\n",
       "      <td>PHY390922</td>\n",
       "      <td>NaN</td>\n",
       "      <td>NaN</td>\n",
       "      <td>2009-04-12</td>\n",
       "      <td>...</td>\n",
       "      <td>2724</td>\n",
       "      <td>19889</td>\n",
       "      <td>5849</td>\n",
       "      <td>NaN</td>\n",
       "      <td>NaN</td>\n",
       "      <td>NaN</td>\n",
       "      <td>NaN</td>\n",
       "      <td>NaN</td>\n",
       "      <td>NaN</td>\n",
       "      <td>NaN</td>\n",
       "    </tr>\n",
       "    <tr>\n",
       "      <th>1</th>\n",
       "      <td>BENE11001</td>\n",
       "      <td>CLM66048</td>\n",
       "      <td>2009-08-31</td>\n",
       "      <td>2009-09-02</td>\n",
       "      <td>PRV55907</td>\n",
       "      <td>5000</td>\n",
       "      <td>PHY318495</td>\n",
       "      <td>PHY318495</td>\n",
       "      <td>NaN</td>\n",
       "      <td>2009-08-31</td>\n",
       "      <td>...</td>\n",
       "      <td>NaN</td>\n",
       "      <td>NaN</td>\n",
       "      <td>NaN</td>\n",
       "      <td>NaN</td>\n",
       "      <td>7092.0</td>\n",
       "      <td>NaN</td>\n",
       "      <td>NaN</td>\n",
       "      <td>NaN</td>\n",
       "      <td>NaN</td>\n",
       "      <td>NaN</td>\n",
       "    </tr>\n",
       "    <tr>\n",
       "      <th>2</th>\n",
       "      <td>BENE11001</td>\n",
       "      <td>CLM68358</td>\n",
       "      <td>2009-09-17</td>\n",
       "      <td>2009-09-20</td>\n",
       "      <td>PRV56046</td>\n",
       "      <td>5000</td>\n",
       "      <td>PHY372395</td>\n",
       "      <td>NaN</td>\n",
       "      <td>PHY324689</td>\n",
       "      <td>2009-09-17</td>\n",
       "      <td>...</td>\n",
       "      <td>NaN</td>\n",
       "      <td>NaN</td>\n",
       "      <td>NaN</td>\n",
       "      <td>NaN</td>\n",
       "      <td>NaN</td>\n",
       "      <td>NaN</td>\n",
       "      <td>NaN</td>\n",
       "      <td>NaN</td>\n",
       "      <td>NaN</td>\n",
       "      <td>NaN</td>\n",
       "    </tr>\n",
       "    <tr>\n",
       "      <th>3</th>\n",
       "      <td>BENE11011</td>\n",
       "      <td>CLM38412</td>\n",
       "      <td>2009-02-14</td>\n",
       "      <td>2009-02-22</td>\n",
       "      <td>PRV52405</td>\n",
       "      <td>5000</td>\n",
       "      <td>PHY369659</td>\n",
       "      <td>PHY392961</td>\n",
       "      <td>PHY349768</td>\n",
       "      <td>2009-02-14</td>\n",
       "      <td>...</td>\n",
       "      <td>25062</td>\n",
       "      <td>40390</td>\n",
       "      <td>4019</td>\n",
       "      <td>NaN</td>\n",
       "      <td>331.0</td>\n",
       "      <td>NaN</td>\n",
       "      <td>NaN</td>\n",
       "      <td>NaN</td>\n",
       "      <td>NaN</td>\n",
       "      <td>NaN</td>\n",
       "    </tr>\n",
       "    <tr>\n",
       "      <th>4</th>\n",
       "      <td>BENE11014</td>\n",
       "      <td>CLM63689</td>\n",
       "      <td>2009-08-13</td>\n",
       "      <td>2009-08-30</td>\n",
       "      <td>PRV56614</td>\n",
       "      <td>10000</td>\n",
       "      <td>PHY379376</td>\n",
       "      <td>PHY398258</td>\n",
       "      <td>NaN</td>\n",
       "      <td>2009-08-13</td>\n",
       "      <td>...</td>\n",
       "      <td>5119</td>\n",
       "      <td>29620</td>\n",
       "      <td>20300</td>\n",
       "      <td>NaN</td>\n",
       "      <td>3893.0</td>\n",
       "      <td>NaN</td>\n",
       "      <td>NaN</td>\n",
       "      <td>NaN</td>\n",
       "      <td>NaN</td>\n",
       "      <td>NaN</td>\n",
       "    </tr>\n",
       "  </tbody>\n",
       "</table>\n",
       "<p>5 rows × 30 columns</p>\n",
       "</div>"
      ],
      "text/plain": [
       "      BeneID   ClaimID ClaimStartDt  ClaimEndDt  Provider  \\\n",
       "0  BENE11001  CLM46614   2009-04-12  2009-04-18  PRV55912   \n",
       "1  BENE11001  CLM66048   2009-08-31  2009-09-02  PRV55907   \n",
       "2  BENE11001  CLM68358   2009-09-17  2009-09-20  PRV56046   \n",
       "3  BENE11011  CLM38412   2009-02-14  2009-02-22  PRV52405   \n",
       "4  BENE11014  CLM63689   2009-08-13  2009-08-30  PRV56614   \n",
       "\n",
       "   InscClaimAmtReimbursed AttendingPhysician OperatingPhysician  \\\n",
       "0                   26000          PHY390922                NaN   \n",
       "1                    5000          PHY318495          PHY318495   \n",
       "2                    5000          PHY372395                NaN   \n",
       "3                    5000          PHY369659          PHY392961   \n",
       "4                   10000          PHY379376          PHY398258   \n",
       "\n",
       "  OtherPhysician AdmissionDt  ... ClmDiagnosisCode_7  ClmDiagnosisCode_8  \\\n",
       "0            NaN  2009-04-12  ...               2724               19889   \n",
       "1            NaN  2009-08-31  ...                NaN                 NaN   \n",
       "2      PHY324689  2009-09-17  ...                NaN                 NaN   \n",
       "3      PHY349768  2009-02-14  ...              25062               40390   \n",
       "4            NaN  2009-08-13  ...               5119               29620   \n",
       "\n",
       "  ClmDiagnosisCode_9 ClmDiagnosisCode_10 ClmProcedureCode_1  \\\n",
       "0               5849                 NaN                NaN   \n",
       "1                NaN                 NaN             7092.0   \n",
       "2                NaN                 NaN                NaN   \n",
       "3               4019                 NaN              331.0   \n",
       "4              20300                 NaN             3893.0   \n",
       "\n",
       "  ClmProcedureCode_2 ClmProcedureCode_3 ClmProcedureCode_4 ClmProcedureCode_5  \\\n",
       "0                NaN                NaN                NaN                NaN   \n",
       "1                NaN                NaN                NaN                NaN   \n",
       "2                NaN                NaN                NaN                NaN   \n",
       "3                NaN                NaN                NaN                NaN   \n",
       "4                NaN                NaN                NaN                NaN   \n",
       "\n",
       "  ClmProcedureCode_6  \n",
       "0                NaN  \n",
       "1                NaN  \n",
       "2                NaN  \n",
       "3                NaN  \n",
       "4                NaN  \n",
       "\n",
       "[5 rows x 30 columns]"
      ]
     },
     "execution_count": 3,
     "metadata": {},
     "output_type": "execute_result"
    }
   ],
   "source": [
    "Incoming.head()"
   ]
  },
  {
   "cell_type": "code",
   "execution_count": 4,
   "id": "9a46341b",
   "metadata": {},
   "outputs": [
    {
     "data": {
      "text/html": [
       "<div>\n",
       "<style scoped>\n",
       "    .dataframe tbody tr th:only-of-type {\n",
       "        vertical-align: middle;\n",
       "    }\n",
       "\n",
       "    .dataframe tbody tr th {\n",
       "        vertical-align: top;\n",
       "    }\n",
       "\n",
       "    .dataframe thead th {\n",
       "        text-align: right;\n",
       "    }\n",
       "</style>\n",
       "<table border=\"1\" class=\"dataframe\">\n",
       "  <thead>\n",
       "    <tr style=\"text-align: right;\">\n",
       "      <th></th>\n",
       "      <th>BeneID</th>\n",
       "      <th>ClaimID</th>\n",
       "      <th>ClaimStartDt</th>\n",
       "      <th>ClaimEndDt</th>\n",
       "      <th>Provider</th>\n",
       "      <th>InscClaimAmtReimbursed</th>\n",
       "      <th>AttendingPhysician</th>\n",
       "      <th>OperatingPhysician</th>\n",
       "      <th>OtherPhysician</th>\n",
       "      <th>ClmDiagnosisCode_1</th>\n",
       "      <th>...</th>\n",
       "      <th>ClmDiagnosisCode_9</th>\n",
       "      <th>ClmDiagnosisCode_10</th>\n",
       "      <th>ClmProcedureCode_1</th>\n",
       "      <th>ClmProcedureCode_2</th>\n",
       "      <th>ClmProcedureCode_3</th>\n",
       "      <th>ClmProcedureCode_4</th>\n",
       "      <th>ClmProcedureCode_5</th>\n",
       "      <th>ClmProcedureCode_6</th>\n",
       "      <th>DeductibleAmtPaid</th>\n",
       "      <th>ClmAdmitDiagnosisCode</th>\n",
       "    </tr>\n",
       "  </thead>\n",
       "  <tbody>\n",
       "    <tr>\n",
       "      <th>0</th>\n",
       "      <td>BENE11002</td>\n",
       "      <td>CLM624349</td>\n",
       "      <td>2009-10-11</td>\n",
       "      <td>2009-10-11</td>\n",
       "      <td>PRV56011</td>\n",
       "      <td>30</td>\n",
       "      <td>PHY326117</td>\n",
       "      <td>NaN</td>\n",
       "      <td>NaN</td>\n",
       "      <td>78943</td>\n",
       "      <td>...</td>\n",
       "      <td>NaN</td>\n",
       "      <td>NaN</td>\n",
       "      <td>NaN</td>\n",
       "      <td>NaN</td>\n",
       "      <td>NaN</td>\n",
       "      <td>NaN</td>\n",
       "      <td>NaN</td>\n",
       "      <td>NaN</td>\n",
       "      <td>0</td>\n",
       "      <td>56409</td>\n",
       "    </tr>\n",
       "    <tr>\n",
       "      <th>1</th>\n",
       "      <td>BENE11003</td>\n",
       "      <td>CLM189947</td>\n",
       "      <td>2009-02-12</td>\n",
       "      <td>2009-02-12</td>\n",
       "      <td>PRV57610</td>\n",
       "      <td>80</td>\n",
       "      <td>PHY362868</td>\n",
       "      <td>NaN</td>\n",
       "      <td>NaN</td>\n",
       "      <td>6115</td>\n",
       "      <td>...</td>\n",
       "      <td>NaN</td>\n",
       "      <td>NaN</td>\n",
       "      <td>NaN</td>\n",
       "      <td>NaN</td>\n",
       "      <td>NaN</td>\n",
       "      <td>NaN</td>\n",
       "      <td>NaN</td>\n",
       "      <td>NaN</td>\n",
       "      <td>0</td>\n",
       "      <td>79380</td>\n",
       "    </tr>\n",
       "    <tr>\n",
       "      <th>2</th>\n",
       "      <td>BENE11003</td>\n",
       "      <td>CLM438021</td>\n",
       "      <td>2009-06-27</td>\n",
       "      <td>2009-06-27</td>\n",
       "      <td>PRV57595</td>\n",
       "      <td>10</td>\n",
       "      <td>PHY328821</td>\n",
       "      <td>NaN</td>\n",
       "      <td>NaN</td>\n",
       "      <td>2723</td>\n",
       "      <td>...</td>\n",
       "      <td>NaN</td>\n",
       "      <td>NaN</td>\n",
       "      <td>NaN</td>\n",
       "      <td>NaN</td>\n",
       "      <td>NaN</td>\n",
       "      <td>NaN</td>\n",
       "      <td>NaN</td>\n",
       "      <td>NaN</td>\n",
       "      <td>0</td>\n",
       "      <td>NaN</td>\n",
       "    </tr>\n",
       "    <tr>\n",
       "      <th>3</th>\n",
       "      <td>BENE11004</td>\n",
       "      <td>CLM121801</td>\n",
       "      <td>2009-01-06</td>\n",
       "      <td>2009-01-06</td>\n",
       "      <td>PRV56011</td>\n",
       "      <td>40</td>\n",
       "      <td>PHY334319</td>\n",
       "      <td>NaN</td>\n",
       "      <td>NaN</td>\n",
       "      <td>71988</td>\n",
       "      <td>...</td>\n",
       "      <td>NaN</td>\n",
       "      <td>NaN</td>\n",
       "      <td>NaN</td>\n",
       "      <td>NaN</td>\n",
       "      <td>NaN</td>\n",
       "      <td>NaN</td>\n",
       "      <td>NaN</td>\n",
       "      <td>NaN</td>\n",
       "      <td>0</td>\n",
       "      <td>NaN</td>\n",
       "    </tr>\n",
       "    <tr>\n",
       "      <th>4</th>\n",
       "      <td>BENE11004</td>\n",
       "      <td>CLM150998</td>\n",
       "      <td>2009-01-22</td>\n",
       "      <td>2009-01-22</td>\n",
       "      <td>PRV56011</td>\n",
       "      <td>200</td>\n",
       "      <td>PHY403831</td>\n",
       "      <td>NaN</td>\n",
       "      <td>NaN</td>\n",
       "      <td>82382</td>\n",
       "      <td>...</td>\n",
       "      <td>NaN</td>\n",
       "      <td>NaN</td>\n",
       "      <td>NaN</td>\n",
       "      <td>NaN</td>\n",
       "      <td>NaN</td>\n",
       "      <td>NaN</td>\n",
       "      <td>NaN</td>\n",
       "      <td>NaN</td>\n",
       "      <td>0</td>\n",
       "      <td>71947</td>\n",
       "    </tr>\n",
       "  </tbody>\n",
       "</table>\n",
       "<p>5 rows × 27 columns</p>\n",
       "</div>"
      ],
      "text/plain": [
       "      BeneID    ClaimID ClaimStartDt  ClaimEndDt  Provider  \\\n",
       "0  BENE11002  CLM624349   2009-10-11  2009-10-11  PRV56011   \n",
       "1  BENE11003  CLM189947   2009-02-12  2009-02-12  PRV57610   \n",
       "2  BENE11003  CLM438021   2009-06-27  2009-06-27  PRV57595   \n",
       "3  BENE11004  CLM121801   2009-01-06  2009-01-06  PRV56011   \n",
       "4  BENE11004  CLM150998   2009-01-22  2009-01-22  PRV56011   \n",
       "\n",
       "   InscClaimAmtReimbursed AttendingPhysician OperatingPhysician  \\\n",
       "0                      30          PHY326117                NaN   \n",
       "1                      80          PHY362868                NaN   \n",
       "2                      10          PHY328821                NaN   \n",
       "3                      40          PHY334319                NaN   \n",
       "4                     200          PHY403831                NaN   \n",
       "\n",
       "  OtherPhysician ClmDiagnosisCode_1  ... ClmDiagnosisCode_9  \\\n",
       "0            NaN              78943  ...                NaN   \n",
       "1            NaN               6115  ...                NaN   \n",
       "2            NaN               2723  ...                NaN   \n",
       "3            NaN              71988  ...                NaN   \n",
       "4            NaN              82382  ...                NaN   \n",
       "\n",
       "  ClmDiagnosisCode_10 ClmProcedureCode_1 ClmProcedureCode_2  \\\n",
       "0                 NaN                NaN                NaN   \n",
       "1                 NaN                NaN                NaN   \n",
       "2                 NaN                NaN                NaN   \n",
       "3                 NaN                NaN                NaN   \n",
       "4                 NaN                NaN                NaN   \n",
       "\n",
       "  ClmProcedureCode_3 ClmProcedureCode_4 ClmProcedureCode_5 ClmProcedureCode_6  \\\n",
       "0                NaN                NaN                NaN                NaN   \n",
       "1                NaN                NaN                NaN                NaN   \n",
       "2                NaN                NaN                NaN                NaN   \n",
       "3                NaN                NaN                NaN                NaN   \n",
       "4                NaN                NaN                NaN                NaN   \n",
       "\n",
       "  DeductibleAmtPaid  ClmAdmitDiagnosisCode  \n",
       "0                 0                  56409  \n",
       "1                 0                  79380  \n",
       "2                 0                    NaN  \n",
       "3                 0                    NaN  \n",
       "4                 0                  71947  \n",
       "\n",
       "[5 rows x 27 columns]"
      ]
     },
     "execution_count": 4,
     "metadata": {},
     "output_type": "execute_result"
    }
   ],
   "source": [
    "Outgoing.head()"
   ]
  },
  {
   "cell_type": "code",
   "execution_count": 5,
   "id": "07324327",
   "metadata": {
    "scrolled": true
   },
   "outputs": [
    {
     "data": {
      "text/html": [
       "<div>\n",
       "<style scoped>\n",
       "    .dataframe tbody tr th:only-of-type {\n",
       "        vertical-align: middle;\n",
       "    }\n",
       "\n",
       "    .dataframe tbody tr th {\n",
       "        vertical-align: top;\n",
       "    }\n",
       "\n",
       "    .dataframe thead th {\n",
       "        text-align: right;\n",
       "    }\n",
       "</style>\n",
       "<table border=\"1\" class=\"dataframe\">\n",
       "  <thead>\n",
       "    <tr style=\"text-align: right;\">\n",
       "      <th></th>\n",
       "      <th>Provider</th>\n",
       "      <th>PotentialFraud</th>\n",
       "    </tr>\n",
       "  </thead>\n",
       "  <tbody>\n",
       "    <tr>\n",
       "      <th>0</th>\n",
       "      <td>PRV51001</td>\n",
       "      <td>No</td>\n",
       "    </tr>\n",
       "    <tr>\n",
       "      <th>1</th>\n",
       "      <td>PRV51003</td>\n",
       "      <td>Yes</td>\n",
       "    </tr>\n",
       "    <tr>\n",
       "      <th>2</th>\n",
       "      <td>PRV51004</td>\n",
       "      <td>No</td>\n",
       "    </tr>\n",
       "    <tr>\n",
       "      <th>3</th>\n",
       "      <td>PRV51005</td>\n",
       "      <td>Yes</td>\n",
       "    </tr>\n",
       "    <tr>\n",
       "      <th>4</th>\n",
       "      <td>PRV51007</td>\n",
       "      <td>No</td>\n",
       "    </tr>\n",
       "  </tbody>\n",
       "</table>\n",
       "</div>"
      ],
      "text/plain": [
       "   Provider PotentialFraud\n",
       "0  PRV51001             No\n",
       "1  PRV51003            Yes\n",
       "2  PRV51004             No\n",
       "3  PRV51005            Yes\n",
       "4  PRV51007             No"
      ]
     },
     "execution_count": 5,
     "metadata": {},
     "output_type": "execute_result"
    }
   ],
   "source": [
    "labels.head()"
   ]
  },
  {
   "cell_type": "markdown",
   "id": "7aeb5520",
   "metadata": {},
   "source": [
    "All data on patients is put together in one data set. "
   ]
  },
  {
   "cell_type": "code",
   "execution_count": 6,
   "id": "90354f8a",
   "metadata": {
    "scrolled": false
   },
   "outputs": [
    {
     "data": {
      "text/html": [
       "<div>\n",
       "<style scoped>\n",
       "    .dataframe tbody tr th:only-of-type {\n",
       "        vertical-align: middle;\n",
       "    }\n",
       "\n",
       "    .dataframe tbody tr th {\n",
       "        vertical-align: top;\n",
       "    }\n",
       "\n",
       "    .dataframe thead th {\n",
       "        text-align: right;\n",
       "    }\n",
       "</style>\n",
       "<table border=\"1\" class=\"dataframe\">\n",
       "  <thead>\n",
       "    <tr style=\"text-align: right;\">\n",
       "      <th></th>\n",
       "      <th>BeneID</th>\n",
       "      <th>ClaimID</th>\n",
       "      <th>ClaimStartDt</th>\n",
       "      <th>ClaimEndDt</th>\n",
       "      <th>Provider</th>\n",
       "      <th>InscClaimAmtReimbursed</th>\n",
       "      <th>AttendingPhysician</th>\n",
       "      <th>OperatingPhysician</th>\n",
       "      <th>OtherPhysician</th>\n",
       "      <th>AdmissionDt</th>\n",
       "      <th>...</th>\n",
       "      <th>ClmDiagnosisCode_7</th>\n",
       "      <th>ClmDiagnosisCode_8</th>\n",
       "      <th>ClmDiagnosisCode_9</th>\n",
       "      <th>ClmDiagnosisCode_10</th>\n",
       "      <th>ClmProcedureCode_1</th>\n",
       "      <th>ClmProcedureCode_2</th>\n",
       "      <th>ClmProcedureCode_3</th>\n",
       "      <th>ClmProcedureCode_4</th>\n",
       "      <th>ClmProcedureCode_5</th>\n",
       "      <th>ClmProcedureCode_6</th>\n",
       "    </tr>\n",
       "  </thead>\n",
       "  <tbody>\n",
       "    <tr>\n",
       "      <th>0</th>\n",
       "      <td>BENE11001</td>\n",
       "      <td>CLM46614</td>\n",
       "      <td>2009-04-12</td>\n",
       "      <td>2009-04-18</td>\n",
       "      <td>PRV55912</td>\n",
       "      <td>26000</td>\n",
       "      <td>PHY390922</td>\n",
       "      <td>NaN</td>\n",
       "      <td>NaN</td>\n",
       "      <td>2009-04-12</td>\n",
       "      <td>...</td>\n",
       "      <td>2724</td>\n",
       "      <td>19889</td>\n",
       "      <td>5849</td>\n",
       "      <td>NaN</td>\n",
       "      <td>NaN</td>\n",
       "      <td>NaN</td>\n",
       "      <td>NaN</td>\n",
       "      <td>NaN</td>\n",
       "      <td>NaN</td>\n",
       "      <td>NaN</td>\n",
       "    </tr>\n",
       "    <tr>\n",
       "      <th>1</th>\n",
       "      <td>BENE11001</td>\n",
       "      <td>CLM66048</td>\n",
       "      <td>2009-08-31</td>\n",
       "      <td>2009-09-02</td>\n",
       "      <td>PRV55907</td>\n",
       "      <td>5000</td>\n",
       "      <td>PHY318495</td>\n",
       "      <td>PHY318495</td>\n",
       "      <td>NaN</td>\n",
       "      <td>2009-08-31</td>\n",
       "      <td>...</td>\n",
       "      <td>NaN</td>\n",
       "      <td>NaN</td>\n",
       "      <td>NaN</td>\n",
       "      <td>NaN</td>\n",
       "      <td>7092.0</td>\n",
       "      <td>NaN</td>\n",
       "      <td>NaN</td>\n",
       "      <td>NaN</td>\n",
       "      <td>NaN</td>\n",
       "      <td>NaN</td>\n",
       "    </tr>\n",
       "    <tr>\n",
       "      <th>2</th>\n",
       "      <td>BENE11001</td>\n",
       "      <td>CLM68358</td>\n",
       "      <td>2009-09-17</td>\n",
       "      <td>2009-09-20</td>\n",
       "      <td>PRV56046</td>\n",
       "      <td>5000</td>\n",
       "      <td>PHY372395</td>\n",
       "      <td>NaN</td>\n",
       "      <td>PHY324689</td>\n",
       "      <td>2009-09-17</td>\n",
       "      <td>...</td>\n",
       "      <td>NaN</td>\n",
       "      <td>NaN</td>\n",
       "      <td>NaN</td>\n",
       "      <td>NaN</td>\n",
       "      <td>NaN</td>\n",
       "      <td>NaN</td>\n",
       "      <td>NaN</td>\n",
       "      <td>NaN</td>\n",
       "      <td>NaN</td>\n",
       "      <td>NaN</td>\n",
       "    </tr>\n",
       "    <tr>\n",
       "      <th>3</th>\n",
       "      <td>BENE11011</td>\n",
       "      <td>CLM38412</td>\n",
       "      <td>2009-02-14</td>\n",
       "      <td>2009-02-22</td>\n",
       "      <td>PRV52405</td>\n",
       "      <td>5000</td>\n",
       "      <td>PHY369659</td>\n",
       "      <td>PHY392961</td>\n",
       "      <td>PHY349768</td>\n",
       "      <td>2009-02-14</td>\n",
       "      <td>...</td>\n",
       "      <td>25062</td>\n",
       "      <td>40390</td>\n",
       "      <td>4019</td>\n",
       "      <td>NaN</td>\n",
       "      <td>331.0</td>\n",
       "      <td>NaN</td>\n",
       "      <td>NaN</td>\n",
       "      <td>NaN</td>\n",
       "      <td>NaN</td>\n",
       "      <td>NaN</td>\n",
       "    </tr>\n",
       "    <tr>\n",
       "      <th>4</th>\n",
       "      <td>BENE11014</td>\n",
       "      <td>CLM63689</td>\n",
       "      <td>2009-08-13</td>\n",
       "      <td>2009-08-30</td>\n",
       "      <td>PRV56614</td>\n",
       "      <td>10000</td>\n",
       "      <td>PHY379376</td>\n",
       "      <td>PHY398258</td>\n",
       "      <td>NaN</td>\n",
       "      <td>2009-08-13</td>\n",
       "      <td>...</td>\n",
       "      <td>5119</td>\n",
       "      <td>29620</td>\n",
       "      <td>20300</td>\n",
       "      <td>NaN</td>\n",
       "      <td>3893.0</td>\n",
       "      <td>NaN</td>\n",
       "      <td>NaN</td>\n",
       "      <td>NaN</td>\n",
       "      <td>NaN</td>\n",
       "      <td>NaN</td>\n",
       "    </tr>\n",
       "  </tbody>\n",
       "</table>\n",
       "<p>5 rows × 30 columns</p>\n",
       "</div>"
      ],
      "text/plain": [
       "      BeneID   ClaimID ClaimStartDt  ClaimEndDt  Provider  \\\n",
       "0  BENE11001  CLM46614   2009-04-12  2009-04-18  PRV55912   \n",
       "1  BENE11001  CLM66048   2009-08-31  2009-09-02  PRV55907   \n",
       "2  BENE11001  CLM68358   2009-09-17  2009-09-20  PRV56046   \n",
       "3  BENE11011  CLM38412   2009-02-14  2009-02-22  PRV52405   \n",
       "4  BENE11014  CLM63689   2009-08-13  2009-08-30  PRV56614   \n",
       "\n",
       "   InscClaimAmtReimbursed AttendingPhysician OperatingPhysician  \\\n",
       "0                   26000          PHY390922                NaN   \n",
       "1                    5000          PHY318495          PHY318495   \n",
       "2                    5000          PHY372395                NaN   \n",
       "3                    5000          PHY369659          PHY392961   \n",
       "4                   10000          PHY379376          PHY398258   \n",
       "\n",
       "  OtherPhysician AdmissionDt  ... ClmDiagnosisCode_7  ClmDiagnosisCode_8  \\\n",
       "0            NaN  2009-04-12  ...               2724               19889   \n",
       "1            NaN  2009-08-31  ...                NaN                 NaN   \n",
       "2      PHY324689  2009-09-17  ...                NaN                 NaN   \n",
       "3      PHY349768  2009-02-14  ...              25062               40390   \n",
       "4            NaN  2009-08-13  ...               5119               29620   \n",
       "\n",
       "  ClmDiagnosisCode_9 ClmDiagnosisCode_10 ClmProcedureCode_1  \\\n",
       "0               5849                 NaN                NaN   \n",
       "1                NaN                 NaN             7092.0   \n",
       "2                NaN                 NaN                NaN   \n",
       "3               4019                 NaN              331.0   \n",
       "4              20300                 NaN             3893.0   \n",
       "\n",
       "  ClmProcedureCode_2 ClmProcedureCode_3 ClmProcedureCode_4 ClmProcedureCode_5  \\\n",
       "0                NaN                NaN                NaN                NaN   \n",
       "1                NaN                NaN                NaN                NaN   \n",
       "2                NaN                NaN                NaN                NaN   \n",
       "3                NaN                NaN                NaN                NaN   \n",
       "4                NaN                NaN                NaN                NaN   \n",
       "\n",
       "  ClmProcedureCode_6  \n",
       "0                NaN  \n",
       "1                NaN  \n",
       "2                NaN  \n",
       "3                NaN  \n",
       "4                NaN  \n",
       "\n",
       "[5 rows x 30 columns]"
      ]
     },
     "execution_count": 6,
     "metadata": {},
     "output_type": "execute_result"
    }
   ],
   "source": [
    "AllClaims = [Incoming, Outgoing]\n",
    "AllClaims = pd.concat(AllClaims)\n",
    "AllClaims.head()"
   ]
  },
  {
   "cell_type": "markdown",
   "id": "cd3ff50a",
   "metadata": {},
   "source": [
    "## Setting up the network"
   ]
  },
  {
   "cell_type": "markdown",
   "id": "fa91b025",
   "metadata": {},
   "source": [
    "In order to be able to work with the network via the stellargraph package, the network data, i.e., the nodes and edges, need to be in a specific format. We need data frames for the nodes, where the nodes are the index of the data frame, and the name of this index is \"ID\". This is done below. \n",
    "\n",
    "Note that we are going to extract the data from the tables per node type. This makes it possible to take the heterogeneity of the different nodes into account. "
   ]
  },
  {
   "cell_type": "code",
   "execution_count": 7,
   "id": "f70d10a6",
   "metadata": {},
   "outputs": [],
   "source": [
    "bene_nodes = AllClaims[[\"BeneID\"]].rename(columns={\"BeneID\":\"ID\"}).drop_duplicates().set_index(\"ID\")\n",
    "claim_nodes = AllClaims[[\"ClaimID\"]].rename(columns={\"ClaimID\":\"ID\"}).drop_duplicates().set_index(\"ID\")\n",
    "provider_nodes = AllClaims[[\"Provider\"]].rename(columns={\"Provider\":\"ID\"}).drop_duplicates().set_index(\"ID\")\n",
    "physician_nodes = AllClaims[[\"AttendingPhysician\"]].rename(columns={\"AttendingPhysician\":\"ID\"}).drop_duplicates().set_index(\"ID\")"
   ]
  },
  {
   "cell_type": "markdown",
   "id": "916d5bb4",
   "metadata": {},
   "source": [
    "For the edges of the network, we will just take them as presented in the original data, i.e., we connect the claims with the other nodes as given in the entry. Here, the columns need to be named \"source\" and \"target\" in order for it to work. "
   ]
  },
  {
   "cell_type": "code",
   "execution_count": 8,
   "id": "6af82c0c",
   "metadata": {},
   "outputs": [],
   "source": [
    "bene_claim = AllClaims[[\"BeneID\", \"ClaimID\"]].rename(columns={\"BeneID\":\"source\", \"ClaimID\":\"target\"})\n",
    "provider_claim = AllClaims[[\"Provider\", \"ClaimID\"]].rename(columns={\"Provider\":\"source\", \"ClaimID\":\"target\"})\n",
    "phys_claim = AllClaims[[\"AttendingPhysician\", \"ClaimID\"]].rename(columns={\"AttendingPhysician\":\"source\", \"ClaimID\":\"target\"})\n",
    "edges = pd.concat([bene_claim, provider_claim, phys_claim]).reset_index(drop=True)"
   ]
  },
  {
   "cell_type": "markdown",
   "id": "5dbeb1ab",
   "metadata": {},
   "source": [
    "With everything set up, we can easily construct the network with stellargraph. We will transform it also to networkx since it will make it easier to do some of the calculations. "
   ]
  },
  {
   "cell_type": "code",
   "execution_count": 9,
   "id": "d5b4ef73",
   "metadata": {},
   "outputs": [],
   "source": [
    "HG = StellarGraph({\"claim\": claim_nodes, \"beneficiary\": bene_nodes, \"provider\": provider_nodes, \"physician\": physician_nodes}, edges)"
   ]
  },
  {
   "cell_type": "code",
   "execution_count": 10,
   "id": "44ec9803",
   "metadata": {},
   "outputs": [],
   "source": [
    "HG_nx = HG.to_networkx()"
   ]
  },
  {
   "cell_type": "markdown",
   "id": "d428ec78",
   "metadata": {},
   "source": [
    "Below, we are going to inspect the structure of the network. "
   ]
  },
  {
   "cell_type": "code",
   "execution_count": 11,
   "id": "b4778c41",
   "metadata": {},
   "outputs": [
    {
     "name": "stdout",
     "output_type": "stream",
     "text": [
      "StellarGraph: Undirected multigraph\n",
      " Nodes: 784241, Edges: 1674633\n",
      "\n",
      " Node types:\n",
      "  claim: [558211]\n",
      "    Features: none\n",
      "    Edge types: claim-default->beneficiary, claim-default->physician, claim-default->provider\n",
      "  beneficiary: [138556]\n",
      "    Features: none\n",
      "    Edge types: beneficiary-default->claim\n",
      "  physician: [82064]\n",
      "    Features: none\n",
      "    Edge types: physician-default->claim\n",
      "  provider: [5410]\n",
      "    Features: none\n",
      "    Edge types: provider-default->claim\n",
      "\n",
      " Edge types:\n",
      "    claim-default->provider: [558211]\n",
      "        Weights: all 1 (default)\n",
      "        Features: none\n",
      "    claim-default->physician: [558211]\n",
      "        Weights: all 1 (default)\n",
      "        Features: none\n",
      "    beneficiary-default->claim: [558211]\n",
      "        Weights: all 1 (default)\n",
      "        Features: none\n"
     ]
    }
   ],
   "source": [
    "print(HG.info())"
   ]
  },
  {
   "cell_type": "code",
   "execution_count": 12,
   "id": "bb453884",
   "metadata": {},
   "outputs": [],
   "source": [
    "degrees = HG.node_degrees()\n",
    "bene_deg = pd.Series([degrees[x] for x in list(bene_nodes.index)])\n",
    "claim_deg = pd.Series([degrees[x] for x in list(claim_nodes.index)])\n",
    "provider_deg = pd.Series([degrees[x] for x in list(provider_nodes.index)])\n",
    "physician_deg = pd.Series([degrees[x] for x in list(physician_nodes.index)])\n",
    "perc = [.25,.50,.75,.85,.95, .99] "
   ]
  },
  {
   "cell_type": "code",
   "execution_count": 13,
   "id": "2734d133",
   "metadata": {},
   "outputs": [
    {
     "data": {
      "text/plain": [
       "count    558211.0\n",
       "mean          3.0\n",
       "std           0.0\n",
       "min           3.0\n",
       "25%           3.0\n",
       "50%           3.0\n",
       "75%           3.0\n",
       "85%           3.0\n",
       "95%           3.0\n",
       "99%           3.0\n",
       "max           3.0\n",
       "dtype: float64"
      ]
     },
     "execution_count": 13,
     "metadata": {},
     "output_type": "execute_result"
    }
   ],
   "source": [
    "claim_deg.describe(percentiles = perc)"
   ]
  },
  {
   "cell_type": "code",
   "execution_count": 14,
   "id": "804b29b8",
   "metadata": {},
   "outputs": [
    {
     "data": {
      "text/plain": [
       "count    138556.000000\n",
       "mean          4.028775\n",
       "std           3.229291\n",
       "min           1.000000\n",
       "25%           2.000000\n",
       "50%           3.000000\n",
       "75%           5.000000\n",
       "85%           7.000000\n",
       "95%          11.000000\n",
       "99%          15.000000\n",
       "max          29.000000\n",
       "dtype: float64"
      ]
     },
     "execution_count": 14,
     "metadata": {},
     "output_type": "execute_result"
    }
   ],
   "source": [
    "bene_deg.describe(percentiles = perc)"
   ]
  },
  {
   "cell_type": "code",
   "execution_count": 15,
   "id": "36ab505b",
   "metadata": {},
   "outputs": [
    {
     "data": {
      "text/plain": [
       "count    5410.000000\n",
       "mean      103.181331\n",
       "std       272.456989\n",
       "min         1.000000\n",
       "25%        10.000000\n",
       "50%        31.000000\n",
       "75%        87.000000\n",
       "85%       152.000000\n",
       "95%       421.550000\n",
       "99%      1265.020000\n",
       "max      8240.000000\n",
       "dtype: float64"
      ]
     },
     "execution_count": 15,
     "metadata": {},
     "output_type": "execute_result"
    }
   ],
   "source": [
    "provider_deg.describe(percentiles = perc)"
   ]
  },
  {
   "cell_type": "code",
   "execution_count": 16,
   "id": "874d94bd",
   "metadata": {
    "scrolled": true
   },
   "outputs": [
    {
     "data": {
      "text/plain": [
       "count    82064.000000\n",
       "mean         6.802142\n",
       "std         30.363123\n",
       "min          1.000000\n",
       "25%          1.000000\n",
       "50%          2.000000\n",
       "75%          4.000000\n",
       "85%          7.000000\n",
       "95%         23.000000\n",
       "99%         92.000000\n",
       "max       2534.000000\n",
       "dtype: float64"
      ]
     },
     "execution_count": 16,
     "metadata": {},
     "output_type": "execute_result"
    }
   ],
   "source": [
    "physician_deg.describe(percentiles = perc)"
   ]
  },
  {
   "cell_type": "markdown",
   "id": "a3d97d33",
   "metadata": {},
   "source": [
    "In order to be able to incorportate the fraud labels, they need to be put into 0-1. Also, the providers need to be the index of the table, and the column with fraud labels for the algorithms needs to be called \"Fraud\"."
   ]
  },
  {
   "cell_type": "code",
   "execution_count": 17,
   "id": "f85f3856",
   "metadata": {},
   "outputs": [],
   "source": [
    "labels = labels.set_index(\"Provider\")"
   ]
  },
  {
   "cell_type": "code",
   "execution_count": 18,
   "id": "243e67b6",
   "metadata": {},
   "outputs": [],
   "source": [
    "num_labels = [0 if x == \"No\" else 1 for x in labels[\"PotentialFraud\"]]\n",
    "labels[\"Fraud\"] = num_labels"
   ]
  },
  {
   "cell_type": "code",
   "execution_count": 19,
   "id": "131cac40",
   "metadata": {
    "scrolled": false
   },
   "outputs": [
    {
     "data": {
      "text/html": [
       "<div>\n",
       "<style scoped>\n",
       "    .dataframe tbody tr th:only-of-type {\n",
       "        vertical-align: middle;\n",
       "    }\n",
       "\n",
       "    .dataframe tbody tr th {\n",
       "        vertical-align: top;\n",
       "    }\n",
       "\n",
       "    .dataframe thead th {\n",
       "        text-align: right;\n",
       "    }\n",
       "</style>\n",
       "<table border=\"1\" class=\"dataframe\">\n",
       "  <thead>\n",
       "    <tr style=\"text-align: right;\">\n",
       "      <th></th>\n",
       "      <th>PotentialFraud</th>\n",
       "      <th>Fraud</th>\n",
       "    </tr>\n",
       "    <tr>\n",
       "      <th>Provider</th>\n",
       "      <th></th>\n",
       "      <th></th>\n",
       "    </tr>\n",
       "  </thead>\n",
       "  <tbody>\n",
       "    <tr>\n",
       "      <th>PRV51001</th>\n",
       "      <td>No</td>\n",
       "      <td>0</td>\n",
       "    </tr>\n",
       "    <tr>\n",
       "      <th>PRV51003</th>\n",
       "      <td>Yes</td>\n",
       "      <td>1</td>\n",
       "    </tr>\n",
       "    <tr>\n",
       "      <th>PRV51004</th>\n",
       "      <td>No</td>\n",
       "      <td>0</td>\n",
       "    </tr>\n",
       "    <tr>\n",
       "      <th>PRV51005</th>\n",
       "      <td>Yes</td>\n",
       "      <td>1</td>\n",
       "    </tr>\n",
       "    <tr>\n",
       "      <th>PRV51007</th>\n",
       "      <td>No</td>\n",
       "      <td>0</td>\n",
       "    </tr>\n",
       "    <tr>\n",
       "      <th>...</th>\n",
       "      <td>...</td>\n",
       "      <td>...</td>\n",
       "    </tr>\n",
       "    <tr>\n",
       "      <th>PRV57759</th>\n",
       "      <td>No</td>\n",
       "      <td>0</td>\n",
       "    </tr>\n",
       "    <tr>\n",
       "      <th>PRV57760</th>\n",
       "      <td>No</td>\n",
       "      <td>0</td>\n",
       "    </tr>\n",
       "    <tr>\n",
       "      <th>PRV57761</th>\n",
       "      <td>No</td>\n",
       "      <td>0</td>\n",
       "    </tr>\n",
       "    <tr>\n",
       "      <th>PRV57762</th>\n",
       "      <td>No</td>\n",
       "      <td>0</td>\n",
       "    </tr>\n",
       "    <tr>\n",
       "      <th>PRV57763</th>\n",
       "      <td>No</td>\n",
       "      <td>0</td>\n",
       "    </tr>\n",
       "  </tbody>\n",
       "</table>\n",
       "<p>5410 rows × 2 columns</p>\n",
       "</div>"
      ],
      "text/plain": [
       "         PotentialFraud  Fraud\n",
       "Provider                      \n",
       "PRV51001             No      0\n",
       "PRV51003            Yes      1\n",
       "PRV51004             No      0\n",
       "PRV51005            Yes      1\n",
       "PRV51007             No      0\n",
       "...                 ...    ...\n",
       "PRV57759             No      0\n",
       "PRV57760             No      0\n",
       "PRV57761             No      0\n",
       "PRV57762             No      0\n",
       "PRV57763             No      0\n",
       "\n",
       "[5410 rows x 2 columns]"
      ]
     },
     "execution_count": 19,
     "metadata": {},
     "output_type": "execute_result"
    }
   ],
   "source": [
    "labels"
   ]
  },
  {
   "cell_type": "markdown",
   "id": "a46f66b0",
   "metadata": {},
   "source": [
    "Since everything is now numerical, we can quickly see the relative number of fraudulent providers. Below, we see that is is around 9%."
   ]
  },
  {
   "cell_type": "code",
   "execution_count": 20,
   "id": "0afe347b",
   "metadata": {},
   "outputs": [
    {
     "data": {
      "text/plain": [
       "0.09353049907578559"
      ]
     },
     "execution_count": 20,
     "metadata": {},
     "output_type": "execute_result"
    }
   ],
   "source": [
    "labels[\"Fraud\"].mean()"
   ]
  },
  {
   "cell_type": "markdown",
   "id": "175d9621",
   "metadata": {},
   "source": [
    "With everything nicely set up, we can move to the calculation of the different network embeddings. "
   ]
  },
  {
   "cell_type": "markdown",
   "id": "bfbf639f",
   "metadata": {},
   "source": [
    "## Network Embeddings"
   ]
  },
  {
   "cell_type": "markdown",
   "id": "582f3714",
   "metadata": {},
   "source": [
    "### Metapath2Vec"
   ]
  },
  {
   "cell_type": "markdown",
   "id": "627c585e",
   "metadata": {},
   "source": [
    "The first embedding algorithm we are going to consider is the metapath2vec method. This method walks around in the network in order to form random paths, which can be converted into an embedding using NLP methods. Here, we restrict the possible paths to a couple of metapath.\n",
    "\n",
    "Below, one can see that each path needs to start and stop in a provider node, and that we do not allow long detours in order to get there. \n",
    "\n",
    "These metapaths are fed into the method, which is already implementede in its dedicated python file. "
   ]
  },
  {
   "cell_type": "code",
   "execution_count": 21,
   "id": "50561e7c",
   "metadata": {},
   "outputs": [],
   "source": [
    "metapaths = [\n",
    "            [\"provider\", \"claim\", \"provider\"],\n",
    "            [\"provider\", \"claim\",\"physician\", \"claim\", \"provider\"],\n",
    "            [\"provider\", \"claim\",\"beneficiary\", \"claim\", \"provider\"]\n",
    "            ]"
   ]
  },
  {
   "cell_type": "code",
   "execution_count": 22,
   "id": "91ee6507",
   "metadata": {},
   "outputs": [
    {
     "name": "stdout",
     "output_type": "stream",
     "text": [
      "Going for a walk...\n",
      "Number of random walks: 32460\n"
     ]
    }
   ],
   "source": [
    "node_ids, node_embeddings, node_targets = Metapath2vec(HG,\n",
    "                                                       metapaths, \n",
    "                                                       dimensions = 64,\n",
    "                                                       num_walks = 2)"
   ]
  },
  {
   "cell_type": "markdown",
   "id": "06e78425",
   "metadata": {},
   "source": [
    "With the embeddings constructed, we need to link the right embedding with the corresponding provider and hence with the corresponding fraud label. "
   ]
  },
  {
   "cell_type": "code",
   "execution_count": 23,
   "id": "b39aa357",
   "metadata": {
    "scrolled": true
   },
   "outputs": [
    {
     "data": {
      "text/plain": [
       "Index(['BENE11001', 'BENE11011', 'BENE11014', 'BENE11017', 'BENE11018',\n",
       "       'BENE11028', 'BENE11031', 'BENE11034', 'BENE11036', 'BENE11037',\n",
       "       ...\n",
       "        'PRV55607',  'PRV56091',  'PRV52794',  'PRV52797',  'PRV54050',\n",
       "        'PRV54302',  'PRV57762',  'PRV51577',  'PRV53083',  'PRV56377'],\n",
       "      dtype='object', length=784241)"
      ]
     },
     "execution_count": 23,
     "metadata": {},
     "output_type": "execute_result"
    }
   ],
   "source": [
    "HG.nodes()"
   ]
  },
  {
   "cell_type": "code",
   "execution_count": 24,
   "id": "9f0f1256",
   "metadata": {},
   "outputs": [],
   "source": [
    "indices = [i for i in range(len(node_targets)) if node_targets[i]==\"provider\" ]\n",
    "providers_sorted = [node_ids[i] for i in range(len(node_targets)) if node_targets[i]==\"provider\" ]"
   ]
  },
  {
   "cell_type": "markdown",
   "id": "63ead0e4",
   "metadata": {},
   "source": [
    "These embeddings are used to construct a fraud detection model. For this, we are going to use a gradient boosting classifier as implemented in scikit-learn. "
   ]
  },
  {
   "cell_type": "code",
   "execution_count": 25,
   "id": "47b12e90",
   "metadata": {},
   "outputs": [],
   "source": [
    "X = node_embeddings[indices]\n",
    "X = pd.DataFrame(X).sort_index()\n",
    "y = labels.sort_index().loc[providers_sorted][\"Fraud\"]"
   ]
  },
  {
   "cell_type": "code",
   "execution_count": 26,
   "id": "2b7d9fe9",
   "metadata": {},
   "outputs": [
    {
     "data": {
      "text/plain": [
       "3246"
      ]
     },
     "execution_count": 26,
     "metadata": {},
     "output_type": "execute_result"
    }
   ],
   "source": [
    "train_size = int(round(0.6 * len(y), 0)); train_size"
   ]
  },
  {
   "cell_type": "code",
   "execution_count": 27,
   "id": "1b7b9ac9",
   "metadata": {},
   "outputs": [],
   "source": [
    "X_train = X.iloc[:train_size,:]\n",
    "y_train = y[:train_size]\n",
    "\n",
    "X_test = X.iloc[train_size:,:]\n",
    "y_test = y[train_size:]"
   ]
  },
  {
   "cell_type": "code",
   "execution_count": 28,
   "id": "fd8852a5",
   "metadata": {},
   "outputs": [
    {
     "data": {
      "text/plain": [
       "55"
      ]
     },
     "execution_count": 28,
     "metadata": {},
     "output_type": "execute_result"
    }
   ],
   "source": [
    "y_test.sum()"
   ]
  },
  {
   "cell_type": "code",
   "execution_count": 29,
   "id": "9da0b346",
   "metadata": {},
   "outputs": [],
   "source": [
    "embedding_model = GradientBoostingClassifier(n_estimators=100,\n",
    "                                                 max_depth=2).fit(X_train, y_train)\n",
    "\n",
    "y_pred_meta = embedding_model.predict_proba(X_test)[:, 1]"
   ]
  },
  {
   "cell_type": "markdown",
   "id": "d5ef7e50",
   "metadata": {},
   "source": [
    "The quality of the model is analysed using the AUC, the average precision and the lift curve. "
   ]
  },
  {
   "cell_type": "code",
   "execution_count": 30,
   "id": "a6253f80",
   "metadata": {
    "scrolled": false
   },
   "outputs": [
    {
     "data": {
      "text/plain": [
       "Text(0.5, 1.0, 'AUC: 0.564')"
      ]
     },
     "execution_count": 30,
     "metadata": {},
     "output_type": "execute_result"
    },
    {
     "data": {
      "image/png": "[encoded data removed]",
      "text/plain": [
       "<Figure size 640x480 with 1 Axes>"
      ]
     },
     "metadata": {},
     "output_type": "display_data"
    }
   ],
   "source": [
    "fpr_meta, tpr_meta, thresholds = metrics.roc_curve(y_test, y_pred_meta)\n",
    "plt.plot(fpr_meta, tpr_meta)\n",
    "plt.plot([0, 1], [0, 1], color=\"grey\", alpha=0.5)\n",
    "plt.title(\"AUC: \" + str(np.round(metrics.auc(fpr_meta, tpr_meta), 3)))"
   ]
  },
  {
   "cell_type": "code",
   "execution_count": 31,
   "id": "cd29aba3",
   "metadata": {},
   "outputs": [
    {
     "data": {
      "text/plain": [
       "<matplotlib.legend.Legend at 0x2416359bd30>"
      ]
     },
     "execution_count": 31,
     "metadata": {},
     "output_type": "execute_result"
    },
    {
     "data": {
      "image/png": "[encoded data removed]",
      "text/plain": [
       "<Figure size 640x480 with 1 Axes>"
      ]
     },
     "metadata": {},
     "output_type": "display_data"
    }
   ],
   "source": [
    "precision_meta, recall_meta, thresholds = metrics.precision_recall_curve(y_test,y_pred_meta)\n",
    "AP_meta = np.round(metrics.average_precision_score(y_test, y_pred_meta),3)\n",
    "plt.plot(recall_meta,precision_meta, label =str(AP_meta), alpha =0.7)\n",
    "plt.title(\"Average Precision\")\n",
    "plt.legend()"
   ]
  },
  {
   "cell_type": "code",
   "execution_count": 32,
   "id": "d7871ebe",
   "metadata": {},
   "outputs": [
    {
     "data": {
      "text/plain": [
       "Text(0.5, 1.0, 'Lift Curve')"
      ]
     },
     "execution_count": 32,
     "metadata": {},
     "output_type": "execute_result"
    },
    {
     "data": {
      "image/png": "[encoded data removed]",
      "text/plain": [
       "<Figure size 640x480 with 1 Axes>"
      ]
     },
     "metadata": {},
     "output_type": "display_data"
    }
   ],
   "source": [
    "steps = np.arange(start = 0.05, stop = 1, step = 0.001)\n",
    "lft_meta = Metrics.lift_curve_values(y_test, y_pred_meta, steps)\n",
    "plt.plot(steps, lft_meta, alpha = 0.7)\n",
    "\n",
    "plt.title(\"Lift Curve\")\n"
   ]
  },
  {
   "cell_type": "markdown",
   "id": "bb0c78d8",
   "metadata": {},
   "source": [
    "### BiRank "
   ]
  },
  {
   "cell_type": "markdown",
   "id": "cb08fa50",
   "metadata": {},
   "source": [
    "The next method is BiRank. Here, we need to reconstruct the network into a bipartite one. We do this by connecting the providers (group 1) to the corresponding physicians and beneficiaries (together group 2). We say that an edge is present between a provider and a physician/beneficiary, if the are part of the same claim. \n",
    "\n",
    "We need to do some simple matrix multiplications in order to obtain the correct adjacency matrix. "
   ]
  },
  {
   "cell_type": "code",
   "execution_count": 33,
   "id": "34816b35",
   "metadata": {},
   "outputs": [],
   "source": [
    "HG_claims = HG.nodes(\"claim\")\n",
    "HG_physicians = HG.nodes(\"physician\")\n",
    "HG_providers = providers_sorted#HG.nodes(\"provider\")\n",
    "HG_beneficiaries = HG.nodes(\"beneficiary\")"
   ]
  },
  {
   "cell_type": "code",
   "execution_count": 34,
   "id": "eca50f0e",
   "metadata": {},
   "outputs": [],
   "source": [
    "adj_C_Ph = HG.to_adjacency_matrix(\n",
    "    list(HG_claims) + list(HG_physicians)\n",
    ")[ :len(HG_claims), len(HG_claims): ]\n",
    "\n",
    "adj_C_B = HG.to_adjacency_matrix(\n",
    "    list(HG_claims) + list(HG_beneficiaries)\n",
    ")[ :len(HG_claims), len(HG_claims): ]\n",
    "\n",
    "adj_C_Pr = HG.to_adjacency_matrix(\n",
    "    list(HG_claims) + list(HG_providers)\n",
    ")[ :len(HG_claims), len(HG_claims): ]"
   ]
  },
  {
   "cell_type": "code",
   "execution_count": 35,
   "id": "c3d53244",
   "metadata": {},
   "outputs": [],
   "source": [
    "adj_Pr_B = adj_C_Pr.transpose() @ adj_C_B\n",
    "adj_Pr_Ph = adj_C_Pr.transpose() @ adj_C_Pr\n",
    "\n",
    "adjmat_bipartite = sp.sparse.hstack((adj_Pr_B, adj_Pr_Ph))"
   ]
  },
  {
   "cell_type": "markdown",
   "id": "60b1aa24",
   "metadata": {},
   "source": [
    "This new bipartite adjacency matrix will now be used for the calculation of the fraud scores for the medical providers. \n",
    "\n",
    "The BiRank method will be applied twice in order to take the temporal aspect into account. "
   ]
  },
  {
   "cell_type": "code",
   "execution_count": 36,
   "id": "9284132c",
   "metadata": {},
   "outputs": [
    {
     "name": "stdout",
     "output_type": "stream",
     "text": [
      "Convergence reached.\n"
     ]
    }
   ],
   "source": [
    "fraud = {\"FraudInd\": labels[\"Fraud\"][HG_providers].values}\n",
    "fraudMat = pd.DataFrame(fraud)\n",
    "\n",
    "provider_nodes = pd.DataFrame({\"ID\": HG_providers}).set_index(\"ID\")\n",
    "\n",
    "HG_parties = np.concatenate((HG_beneficiaries, HG_physicians))\n",
    "party_nodes = pd.DataFrame({\"ID\": HG_parties}).set_index(\"ID\")\n",
    "\n",
    "ADJ = adjmat_bipartite.transpose().tocsr()\n",
    "\n",
    "Claims_res, Parties_res, aMat, iterations, convergence = BiRank(ADJ, provider_nodes, party_nodes, fraudMat)"
   ]
  },
  {
   "cell_type": "code",
   "execution_count": 37,
   "id": "a8cf5e46",
   "metadata": {
    "scrolled": true
   },
   "outputs": [
    {
     "name": "stderr",
     "output_type": "stream",
     "text": [
      "C:\\Users\\u0130626\\OneDrive - KU Leuven\\Documents\\Research\\Thesis\\5. Code\\Demo\\BiRank.py:6: RuntimeWarning: divide by zero encountered in true_divide\n",
      "  Dp = sparse.diags(np.asarray(1 / np.sqrt(adjMat.sum(axis=1).flatten())), [0])\n"
     ]
    },
    {
     "name": "stdout",
     "output_type": "stream",
     "text": [
      "Convergence reached.\n"
     ]
    },
    {
     "name": "stderr",
     "output_type": "stream",
     "text": [
      "C:\\Users\\u0130626\\AppData\\Local\\Temp\\ipykernel_6880\\1444531107.py:16: FutureWarning: The frame.append method is deprecated and will be removed from pandas in a future version. Use pandas.concat instead.\n",
      "  fraudMat_test = fraudMat_train_res.append(fraudMat_test_set)\n"
     ]
    },
    {
     "name": "stdout",
     "output_type": "stream",
     "text": [
      "Convergence reached.\n"
     ]
    }
   ],
   "source": [
    "ADJ = adjmat_bipartite.tocsr()\n",
    "number_providers = ADJ.shape[0]\n",
    "train_set_size = int(np.round(0.6*number_providers))\n",
    "test_set_size = number_providers-train_set_size\n",
    "ADJ_train= ADJ[:train_set_size,:]\n",
    "fraudMat_train = fraudMat.iloc[:train_set_size]\n",
    "provider_train = provider_nodes[:train_set_size]\n",
    "\n",
    "ADJ = ADJ_train.transpose().tocsr()\n",
    "Claims_res, Parties_res, aMat, iterations, convergence = BiRank(ADJ, provider_train, party_nodes, fraudMat_train)\n",
    "\n",
    "fraud_train_res = {\"FraudInd\": Claims_res.sort_values(\"ID\")[\"ScaledScore\"].values}\n",
    "test_set_fraud = {\"FraudInd\": [0]*test_set_size}\n",
    "fraudMat_train_res = pd.DataFrame(fraud_train_res)\n",
    "fraudMat_test_set = pd.DataFrame(test_set_fraud)\n",
    "fraudMat_test = fraudMat_train_res.append(fraudMat_test_set)\n",
    "\n",
    "ADJ = adjmat_bipartite.transpose().tocsr()\n",
    "Claims_res, Parties_res, aMat, iterations, convergence = BiRank(ADJ, provider_nodes, party_nodes, fraudMat_test)"
   ]
  },
  {
   "cell_type": "markdown",
   "id": "80215e2e",
   "metadata": {},
   "source": [
    "As before, we look at the models performance using the AUC, AP and lift. "
   ]
  },
  {
   "cell_type": "code",
   "execution_count": 38,
   "id": "2a8c0fa9",
   "metadata": {},
   "outputs": [
    {
     "data": {
      "text/plain": [
       "Text(0.5, 1.0, 'AUC: 0.719')"
      ]
     },
     "execution_count": 38,
     "metadata": {},
     "output_type": "execute_result"
    },
    {
     "data": {
      "image/png": "[encoded data removed]",
      "text/plain": [
       "<Figure size 640x480 with 1 Axes>"
      ]
     },
     "metadata": {},
     "output_type": "display_data"
    }
   ],
   "source": [
    "y_test = fraudMat.iloc[train_set_size:][\"FraudInd\"]\n",
    "y_pred_bi = Claims_res.sort_values(\"ID\")[train_set_size:].ScaledScore\n",
    "fpr_bi, tpr_bi, thresholds = metrics.roc_curve(y_test,y_pred_bi)\n",
    "\n",
    "plt.plot(fpr_bi,tpr_bi)\n",
    "\n",
    "plt.plot([0,1], [0,1], color = \"grey\", alpha = 0.5)\n",
    "plt.title(\"AUC: \"+str(np.round(metrics.auc(fpr_bi, tpr_bi),3)))"
   ]
  },
  {
   "cell_type": "code",
   "execution_count": 39,
   "id": "7db7f358",
   "metadata": {},
   "outputs": [
    {
     "data": {
      "text/plain": [
       "<matplotlib.legend.Legend at 0x241637cff10>"
      ]
     },
     "execution_count": 39,
     "metadata": {},
     "output_type": "execute_result"
    },
    {
     "data": {
      "image/png": "[encoded data removed]",
      "text/plain": [
       "<Figure size 640x480 with 1 Axes>"
      ]
     },
     "metadata": {},
     "output_type": "display_data"
    }
   ],
   "source": [
    "precision_bi, recall_bi, thresholds = metrics.precision_recall_curve(y_test,y_pred_bi)\n",
    "AP_bi = np.round(metrics.average_precision_score(y_test, y_pred_bi),3)\n",
    "plt.plot(recall_bi,precision_bi, label =str(AP_bi), alpha =0.7)\n",
    "plt.title(\"Average Precision\")\n",
    "plt.legend()"
   ]
  },
  {
   "cell_type": "code",
   "execution_count": 40,
   "id": "54cb899d",
   "metadata": {},
   "outputs": [
    {
     "data": {
      "text/plain": [
       "Text(0.5, 1.0, 'Lift Curve')"
      ]
     },
     "execution_count": 40,
     "metadata": {},
     "output_type": "execute_result"
    },
    {
     "data": {
      "image/png": "[encoded data removed]",
      "text/plain": [
       "<Figure size 640x480 with 1 Axes>"
      ]
     },
     "metadata": {},
     "output_type": "display_data"
    }
   ],
   "source": [
    "steps = np.arange(start = 0.05, stop = 1, step = 0.001)\n",
    "lft_bi = Metrics.lift_curve_values(y_test, y_pred_bi, steps)\n",
    "plt.plot(steps, lft_bi, alpha = 0.7)\n",
    "\n",
    "plt.title(\"Lift Curve\")"
   ]
  },
  {
   "cell_type": "markdown",
   "id": "ba1ed141",
   "metadata": {},
   "source": [
    "### Traditional Network Features"
   ]
  },
  {
   "cell_type": "markdown",
   "id": "76d9019b",
   "metadata": {},
   "source": [
    "The final set of features we are going to look at, are the more traditional ones. It consists of the degree and the betweenness centrality. These are also much easier to interprete than the other ones. \n",
    "\n",
    "We have run the code (now in text) before, and saved the results in an excel file. This saves us time when rerunning the notebook. \n",
    "\n",
    "As always, the model performance is analysed. "
   ]
  },
  {
   "cell_type": "code",
   "execution_count": 41,
   "id": "562b911b",
   "metadata": {},
   "outputs": [],
   "source": [
    "#from HelperFunctions import geodesic"
   ]
  },
  {
   "cell_type": "code",
   "execution_count": 42,
   "id": "d3fe484f",
   "metadata": {},
   "outputs": [],
   "source": [
    "#full_geo_G = geodesic(HG_nx)"
   ]
  },
  {
   "cell_type": "code",
   "execution_count": 43,
   "id": "f772883b",
   "metadata": {},
   "outputs": [
    {
     "data": {
      "text/html": [
       "<div>\n",
       "<style scoped>\n",
       "    .dataframe tbody tr th:only-of-type {\n",
       "        vertical-align: middle;\n",
       "    }\n",
       "\n",
       "    .dataframe tbody tr th {\n",
       "        vertical-align: top;\n",
       "    }\n",
       "\n",
       "    .dataframe thead th {\n",
       "        text-align: right;\n",
       "    }\n",
       "</style>\n",
       "<table border=\"1\" class=\"dataframe\">\n",
       "  <thead>\n",
       "    <tr style=\"text-align: right;\">\n",
       "      <th></th>\n",
       "      <th>provider</th>\n",
       "      <th>degree</th>\n",
       "    </tr>\n",
       "  </thead>\n",
       "  <tbody>\n",
       "    <tr>\n",
       "      <th>0</th>\n",
       "      <td>PRV51459</td>\n",
       "      <td>0.010507</td>\n",
       "    </tr>\n",
       "    <tr>\n",
       "      <th>1</th>\n",
       "      <td>PRV51574</td>\n",
       "      <td>0.005667</td>\n",
       "    </tr>\n",
       "    <tr>\n",
       "      <th>2</th>\n",
       "      <td>PRV53797</td>\n",
       "      <td>0.006043</td>\n",
       "    </tr>\n",
       "    <tr>\n",
       "      <th>3</th>\n",
       "      <td>PRV55215</td>\n",
       "      <td>0.004326</td>\n",
       "    </tr>\n",
       "    <tr>\n",
       "      <th>4</th>\n",
       "      <td>PRV56560</td>\n",
       "      <td>0.002949</td>\n",
       "    </tr>\n",
       "  </tbody>\n",
       "</table>\n",
       "</div>"
      ],
      "text/plain": [
       "   provider    degree\n",
       "0  PRV51459  0.010507\n",
       "1  PRV51574  0.005667\n",
       "2  PRV53797  0.006043\n",
       "3  PRV55215  0.004326\n",
       "4  PRV56560  0.002949"
      ]
     },
     "execution_count": 43,
     "metadata": {},
     "output_type": "execute_result"
    }
   ],
   "source": [
    "deg_cen = nx.degree_centrality(HG_nx)\n",
    "df_degcen = pd.DataFrame({'provider': [provider for provider in provider_nodes.index],\n",
    "                          'degree': [deg_cen[provider] for provider in provider_nodes.index] })\n",
    "df_degcen.head()"
   ]
  },
  {
   "cell_type": "markdown",
   "id": "72c4f96f",
   "metadata": {},
   "source": [
    "from HelperFunctions import load_network, feature_engineering\n",
    "import networkx as nx\n",
    "import networkit\n",
    "import pandas as pd\n",
    "\n",
    "nx_graph_1 = HG.to_networkx()\n",
    "nx_graph_2 = nx.Graph(nx_graph_1)\n",
    "G_nit = networkit.nxadapter.nx2nk(nx_graph_2)\n",
    "\n",
    "zipped_nodes = zip(nx_graph_2.nodes(), range(nx_graph_2.number_of_nodes()))\n",
    "node_keys = pd.DataFrame(zipped_nodes)\n",
    "\n",
    "cl_cen = networkit.centrality.ApproxCloseness(G_nit, 10000).run().ranking()\n",
    "cl_cen_df = pd.DataFrame(cl_cen)\n",
    "\n",
    "cl_cen_nodes = node_keys.merge(cl_cen_df, left_on = 1, right_on = 0)\n",
    "\n",
    "cl_cen_nodes = cl_cen_nodes[[\"0_x\", \"1_y\"]]\n",
    "cl_cen_nodes.columns= [\"node_id\", \"Closeness Centrality\"]\n",
    "\n",
    "btw_cen = networkit.centrality.EstimateBetweenness(G_nit, 10000).run().ranking()\n",
    "\n",
    "btw_cen_df = pd.DataFrame(btw_cen)\n",
    "btw_cen_nodes = node_keys.merge(btw_cen_df, left_on = 1, right_on = 0)\n",
    "btw_cen_nodes = btw_cen_nodes[[\"0_x\", \"1_y\"]]\n",
    "btw_cen_nodes.columns= [\"node_id\", \"Betweenness Centrality\"]\n",
    "\n",
    "centralities = cl_cen_nodes.merge(btw_cen_nodes, on = \"node_id\")\n",
    "centralities.to_csv(\"Centralities_medical.csv\", index = False)"
   ]
  },
  {
   "cell_type": "code",
   "execution_count": 44,
   "id": "0a8c0028",
   "metadata": {
    "scrolled": true
   },
   "outputs": [],
   "source": [
    "Centralities_medical = pd.read_csv(\"Centralities_medical.csv\").set_index(\"node_id\")\n",
    "Centralities_medical = Centralities_medical.loc[labels.index]\n",
    "\n",
    "deg_cen = nx.degree_centrality(HG_nx)\n",
    "df_degcen = pd.DataFrame({'provider': [provider for provider in provider_nodes.index],\n",
    "                          'degree': [deg_cen[provider] for provider in provider_nodes.index] }).set_index(\"provider\").loc[labels.index]\n",
    "\n",
    "X = pd.merge(Centralities_medical, df_degcen, left_index = True, right_index = True).dropna().sort_index()\n",
    "\n",
    "train_size = int(round(0.6 * len(labels), 0))\n",
    "\n",
    "y = labels.sort_index()[\"Fraud\"][X.index]\n",
    "\n",
    "X_train = X.iloc[:train_size,:]\n",
    "y_train = y[:train_size]\n",
    "\n",
    "X_test = X.iloc[train_size:,:]\n",
    "y_test = y[train_size:]\n",
    "\n",
    "embedding_model = GradientBoostingClassifier(n_estimators=500,\n",
    "                                                 subsample=0.8,\n",
    "                                                 max_depth=3).fit(X_train, y_train)\n",
    "\n",
    "y_pred_cen = embedding_model.predict_proba(X_test)[:, 1]"
   ]
  },
  {
   "cell_type": "code",
   "execution_count": 45,
   "id": "3bd133b5",
   "metadata": {},
   "outputs": [
    {
     "data": {
      "text/plain": [
       "Text(0.5, 1.0, 'AUC: 0.755')"
      ]
     },
     "execution_count": 45,
     "metadata": {},
     "output_type": "execute_result"
    },
    {
     "data": {
      "image/png": "[encoded data removed]",
      "text/plain": [
       "<Figure size 640x480 with 1 Axes>"
      ]
     },
     "metadata": {},
     "output_type": "display_data"
    }
   ],
   "source": [
    "fpr_cen, tpr_cen, thresholds = metrics.roc_curve(y_test, y_pred_cen)\n",
    "plt.plot(fpr_cen, tpr_cen)\n",
    "plt.plot([0, 1], [0, 1], color=\"grey\", alpha=0.5)\n",
    "plt.title(\"AUC: \" + str(np.round(metrics.auc(fpr_cen, tpr_cen), 3)))"
   ]
  },
  {
   "cell_type": "code",
   "execution_count": 46,
   "id": "418e3533",
   "metadata": {},
   "outputs": [
    {
     "data": {
      "text/plain": [
       "<matplotlib.legend.Legend at 0x241641e9ca0>"
      ]
     },
     "execution_count": 46,
     "metadata": {},
     "output_type": "execute_result"
    },
    {
     "data": {
      "image/png": "[encoded data removed]",
      "text/plain": [
       "<Figure size 640x480 with 1 Axes>"
      ]
     },
     "metadata": {},
     "output_type": "display_data"
    }
   ],
   "source": [
    "precision_cen, recall_cen, thresholds = metrics.precision_recall_curve(y_test,y_pred_cen)\n",
    "AP_cen = np.round(metrics.average_precision_score(y_test, y_pred_cen),3)\n",
    "plt.plot(recall_cen,precision_cen, label =str(AP_cen), alpha =0.7)\n",
    "plt.title(\"Average Precision\")\n",
    "plt.legend()"
   ]
  },
  {
   "cell_type": "code",
   "execution_count": 47,
   "id": "b3861342",
   "metadata": {
    "scrolled": false
   },
   "outputs": [
    {
     "data": {
      "text/plain": [
       "Text(0.5, 1.0, 'Lift Curve')"
      ]
     },
     "execution_count": 47,
     "metadata": {},
     "output_type": "execute_result"
    },
    {
     "data": {
      "image/png": "[encoded data removed]",
      "text/plain": [
       "<Figure size 640x480 with 1 Axes>"
      ]
     },
     "metadata": {},
     "output_type": "display_data"
    }
   ],
   "source": [
    "steps = np.arange(start = 0.05, stop = 1, step = 0.001)\n",
    "lft_cen = Metrics.lift_curve_values(y_test, y_pred_cen, steps)\n",
    "plt.plot(steps, lft_cen, alpha = 0.7)\n",
    "\n",
    "plt.title(\"Lift Curve\")"
   ]
  },
  {
   "cell_type": "markdown",
   "id": "1c1a621f",
   "metadata": {},
   "source": [
    "### GraphSAGE"
   ]
  },
  {
   "cell_type": "code",
   "execution_count": 48,
   "id": "c546136b",
   "metadata": {},
   "outputs": [],
   "source": [
    "import stellargraph as sg\n",
    "import tensorflow as tf\n",
    "import networkx as nx\n",
    "\n",
    "from stellargraph.mapper import FullBatchNodeGenerator\n",
    "\n",
    "from tensorflow.keras import layers, optimizers, losses, metrics, Model\n",
    "from sklearn import preprocessing, model_selection\n",
    "from IPython.display import display, HTML\n",
    "import matplotlib.pyplot as plt\n",
    "\n",
    "from stellargraph.layer import HinSAGE    \n",
    "from stellargraph.mapper import HinSAGENodeGenerator, NodeSequence\n",
    "from keras import layers\n",
    "from tensorflow.keras import layers, optimizers, Model\n",
    "from tensorflow.keras.losses import binary_crossentropy\n",
    "from sklearn.model_selection import train_test_split\n",
    "import pandas as pd"
   ]
  },
  {
   "cell_type": "markdown",
   "id": "ad8739b8",
   "metadata": {},
   "source": [
    "We are going to re-initialise the data set, to be sure that no data problems will arise down the line"
   ]
  },
  {
   "cell_type": "code",
   "execution_count": 49,
   "id": "456acfee",
   "metadata": {},
   "outputs": [],
   "source": [
    "Incoming = pd.read_csv(\"data/archive (1)/Train_Inpatientdata-1542865627584.csv\")\n",
    "Outgoing = pd.read_csv(\"data/archive (1)/Train_Outpatientdata-1542865627584.csv\")\n",
    "ben_data = pd.read_csv(\"data/archive (1)/Train_Beneficiarydata-1542865627584.csv\")\n",
    "labels = pd.read_csv(\"data/archive (1)/Train-1542865627584.csv\")\n",
    "\n",
    "AllClaims = [Incoming, Outgoing]\n",
    "AllClaims = pd.concat(AllClaims)"
   ]
  },
  {
   "cell_type": "markdown",
   "id": "41edf93c",
   "metadata": {},
   "source": [
    "Using the data, we can easily construct the network, consisting of nodes and edges. "
   ]
  },
  {
   "cell_type": "code",
   "execution_count": 50,
   "id": "359fdf21",
   "metadata": {},
   "outputs": [],
   "source": [
    "bene_nodes = AllClaims[[\"BeneID\"]].rename(columns={\"BeneID\":\"ID\"}).drop_duplicates().set_index(\"ID\")\n",
    "claim_nodes = AllClaims[[\"ClaimID\"]].rename(columns={\"ClaimID\":\"ID\"}).drop_duplicates().set_index(\"ID\")\n",
    "provider_nodes = AllClaims[[\"Provider\"]].rename(columns={\"Provider\":\"ID\"}).drop_duplicates().set_index(\"ID\")\n",
    "physician_nodes = AllClaims[[\"AttendingPhysician\"]].rename(columns={\"AttendingPhysician\":\"ID\"}).drop_duplicates().set_index(\"ID\")\n",
    "\n",
    "nodes = {\"beneficiary\": bene_nodes, \"claim\": claim_nodes, \"provider\": provider_nodes, \"physician\": physician_nodes}\n",
    "\n",
    "edges = [\n",
    "    zip(AllClaims.BeneID, AllClaims.ClaimID),\n",
    "    zip(AllClaims.Provider, AllClaims.ClaimID),\n",
    "    zip(AllClaims.AttendingPhysician, AllClaims.ClaimID)\n",
    "]"
   ]
  },
  {
   "cell_type": "markdown",
   "id": "7e9f2783",
   "metadata": {},
   "source": [
    "For the previous methods, we did not have additional feature information for the health care providers. Now, with GraphSAGE, we will incorporate the features of the other kinds of nodes in the network. \n",
    "\n",
    "Especially the patients have a lot of data being kept with their dosier. In addition, we incorporate two features for the claim data as well. "
   ]
  },
  {
   "cell_type": "code",
   "execution_count": 51,
   "id": "531e2127",
   "metadata": {
    "scrolled": true
   },
   "outputs": [
    {
     "data": {
      "text/html": [
       "<div>\n",
       "<style scoped>\n",
       "    .dataframe tbody tr th:only-of-type {\n",
       "        vertical-align: middle;\n",
       "    }\n",
       "\n",
       "    .dataframe tbody tr th {\n",
       "        vertical-align: top;\n",
       "    }\n",
       "\n",
       "    .dataframe thead th {\n",
       "        text-align: right;\n",
       "    }\n",
       "</style>\n",
       "<table border=\"1\" class=\"dataframe\">\n",
       "  <thead>\n",
       "    <tr style=\"text-align: right;\">\n",
       "      <th></th>\n",
       "      <th>Deceased</th>\n",
       "      <th>Race</th>\n",
       "      <th>RenalDiseaseIndicator_01</th>\n",
       "      <th>State</th>\n",
       "      <th>Gender_01</th>\n",
       "      <th>ChronicCond_Alzheimer_01</th>\n",
       "      <th>ChronicCond_Heartfailure_01</th>\n",
       "      <th>ChronicCond_KidneyDisease_01</th>\n",
       "      <th>ChronicCond_Cancer_01</th>\n",
       "      <th>ChronicCond_ObstrPulmonary_01</th>\n",
       "      <th>ChronicCond_Depression_01</th>\n",
       "      <th>ChronicCond_Diabetes_01</th>\n",
       "      <th>ChronicCond_IschemicHeart_01</th>\n",
       "      <th>ChronicCond_Osteoporasis_01</th>\n",
       "      <th>ChronicCond_rheumatoidarthritis_01</th>\n",
       "      <th>ChronicCond_stroke_01</th>\n",
       "    </tr>\n",
       "    <tr>\n",
       "      <th>BeneID</th>\n",
       "      <th></th>\n",
       "      <th></th>\n",
       "      <th></th>\n",
       "      <th></th>\n",
       "      <th></th>\n",
       "      <th></th>\n",
       "      <th></th>\n",
       "      <th></th>\n",
       "      <th></th>\n",
       "      <th></th>\n",
       "      <th></th>\n",
       "      <th></th>\n",
       "      <th></th>\n",
       "      <th></th>\n",
       "      <th></th>\n",
       "      <th></th>\n",
       "    </tr>\n",
       "  </thead>\n",
       "  <tbody>\n",
       "    <tr>\n",
       "      <th>BENE11001</th>\n",
       "      <td>0</td>\n",
       "      <td>1</td>\n",
       "      <td>1</td>\n",
       "      <td>39</td>\n",
       "      <td>0</td>\n",
       "      <td>0</td>\n",
       "      <td>1</td>\n",
       "      <td>0</td>\n",
       "      <td>1</td>\n",
       "      <td>1</td>\n",
       "      <td>0</td>\n",
       "      <td>0</td>\n",
       "      <td>0</td>\n",
       "      <td>1</td>\n",
       "      <td>0</td>\n",
       "      <td>0</td>\n",
       "    </tr>\n",
       "    <tr>\n",
       "      <th>BENE11002</th>\n",
       "      <td>0</td>\n",
       "      <td>1</td>\n",
       "      <td>1</td>\n",
       "      <td>39</td>\n",
       "      <td>1</td>\n",
       "      <td>1</td>\n",
       "      <td>1</td>\n",
       "      <td>1</td>\n",
       "      <td>1</td>\n",
       "      <td>1</td>\n",
       "      <td>1</td>\n",
       "      <td>1</td>\n",
       "      <td>1</td>\n",
       "      <td>1</td>\n",
       "      <td>1</td>\n",
       "      <td>1</td>\n",
       "    </tr>\n",
       "    <tr>\n",
       "      <th>BENE11003</th>\n",
       "      <td>0</td>\n",
       "      <td>1</td>\n",
       "      <td>1</td>\n",
       "      <td>52</td>\n",
       "      <td>0</td>\n",
       "      <td>0</td>\n",
       "      <td>1</td>\n",
       "      <td>1</td>\n",
       "      <td>1</td>\n",
       "      <td>1</td>\n",
       "      <td>1</td>\n",
       "      <td>1</td>\n",
       "      <td>0</td>\n",
       "      <td>1</td>\n",
       "      <td>1</td>\n",
       "      <td>1</td>\n",
       "    </tr>\n",
       "    <tr>\n",
       "      <th>BENE11004</th>\n",
       "      <td>0</td>\n",
       "      <td>1</td>\n",
       "      <td>1</td>\n",
       "      <td>39</td>\n",
       "      <td>0</td>\n",
       "      <td>0</td>\n",
       "      <td>0</td>\n",
       "      <td>1</td>\n",
       "      <td>1</td>\n",
       "      <td>1</td>\n",
       "      <td>1</td>\n",
       "      <td>0</td>\n",
       "      <td>0</td>\n",
       "      <td>0</td>\n",
       "      <td>0</td>\n",
       "      <td>1</td>\n",
       "    </tr>\n",
       "    <tr>\n",
       "      <th>BENE11005</th>\n",
       "      <td>0</td>\n",
       "      <td>1</td>\n",
       "      <td>1</td>\n",
       "      <td>24</td>\n",
       "      <td>0</td>\n",
       "      <td>1</td>\n",
       "      <td>1</td>\n",
       "      <td>1</td>\n",
       "      <td>1</td>\n",
       "      <td>0</td>\n",
       "      <td>1</td>\n",
       "      <td>0</td>\n",
       "      <td>1</td>\n",
       "      <td>1</td>\n",
       "      <td>1</td>\n",
       "      <td>1</td>\n",
       "    </tr>\n",
       "  </tbody>\n",
       "</table>\n",
       "</div>"
      ],
      "text/plain": [
       "           Deceased  Race  RenalDiseaseIndicator_01  State  Gender_01  \\\n",
       "BeneID                                                                  \n",
       "BENE11001         0     1                         1     39          0   \n",
       "BENE11002         0     1                         1     39          1   \n",
       "BENE11003         0     1                         1     52          0   \n",
       "BENE11004         0     1                         1     39          0   \n",
       "BENE11005         0     1                         1     24          0   \n",
       "\n",
       "           ChronicCond_Alzheimer_01  ChronicCond_Heartfailure_01  \\\n",
       "BeneID                                                             \n",
       "BENE11001                         0                            1   \n",
       "BENE11002                         1                            1   \n",
       "BENE11003                         0                            1   \n",
       "BENE11004                         0                            0   \n",
       "BENE11005                         1                            1   \n",
       "\n",
       "           ChronicCond_KidneyDisease_01  ChronicCond_Cancer_01  \\\n",
       "BeneID                                                           \n",
       "BENE11001                             0                      1   \n",
       "BENE11002                             1                      1   \n",
       "BENE11003                             1                      1   \n",
       "BENE11004                             1                      1   \n",
       "BENE11005                             1                      1   \n",
       "\n",
       "           ChronicCond_ObstrPulmonary_01  ChronicCond_Depression_01  \\\n",
       "BeneID                                                                \n",
       "BENE11001                              1                          0   \n",
       "BENE11002                              1                          1   \n",
       "BENE11003                              1                          1   \n",
       "BENE11004                              1                          1   \n",
       "BENE11005                              0                          1   \n",
       "\n",
       "           ChronicCond_Diabetes_01  ChronicCond_IschemicHeart_01  \\\n",
       "BeneID                                                             \n",
       "BENE11001                        0                             0   \n",
       "BENE11002                        1                             1   \n",
       "BENE11003                        1                             0   \n",
       "BENE11004                        0                             0   \n",
       "BENE11005                        0                             1   \n",
       "\n",
       "           ChronicCond_Osteoporasis_01  ChronicCond_rheumatoidarthritis_01  \\\n",
       "BeneID                                                                       \n",
       "BENE11001                            1                                   0   \n",
       "BENE11002                            1                                   1   \n",
       "BENE11003                            1                                   1   \n",
       "BENE11004                            0                                   0   \n",
       "BENE11005                            1                                   1   \n",
       "\n",
       "           ChronicCond_stroke_01  \n",
       "BeneID                            \n",
       "BENE11001                      0  \n",
       "BENE11002                      1  \n",
       "BENE11003                      1  \n",
       "BENE11004                      1  \n",
       "BENE11005                      1  "
      ]
     },
     "execution_count": 51,
     "metadata": {},
     "output_type": "execute_result"
    }
   ],
   "source": [
    "beneficiary_data = ben_data.set_index(\"BeneID\")\n",
    "beneficiary_data[\"Deceased\"] = [0 if x else 1 for x in beneficiary_data[\"DOD\"].isna()]\n",
    "beneficiary_data[\"RenalDiseaseIndicator_01\"] = [0 if x == 0 else 1 for x in ben_data[\"RenalDiseaseIndicator\"]]\n",
    "beneficiary_data[\"Gender_01\"] = beneficiary_data[\"Gender\"]-1\n",
    "beneficiary_data[\"ChronicCond_Alzheimer_01\"] = beneficiary_data[\"ChronicCond_Alzheimer\"]-1\n",
    "beneficiary_data[\"ChronicCond_Heartfailure_01\"] = beneficiary_data[\"ChronicCond_Heartfailure\"]-1\n",
    "beneficiary_data[\"ChronicCond_KidneyDisease_01\"] = beneficiary_data[\"ChronicCond_KidneyDisease\"]-1\n",
    "beneficiary_data[\"ChronicCond_Cancer_01\"] = beneficiary_data[\"ChronicCond_Cancer\"]-1\n",
    "beneficiary_data[\"ChronicCond_ObstrPulmonary_01\"] = beneficiary_data[\"ChronicCond_ObstrPulmonary\"]-1\n",
    "beneficiary_data[\"ChronicCond_Depression_01\"] = beneficiary_data[\"ChronicCond_Depression\"]-1\n",
    "beneficiary_data[\"ChronicCond_Diabetes_01\"] = beneficiary_data[\"ChronicCond_Diabetes\"]-1\n",
    "beneficiary_data[\"ChronicCond_IschemicHeart_01\"] = beneficiary_data[\"ChronicCond_IschemicHeart\"]-1\n",
    "beneficiary_data[\"ChronicCond_Osteoporasis_01\"] = beneficiary_data[\"ChronicCond_Osteoporasis\"]-1\n",
    "beneficiary_data[\"ChronicCond_rheumatoidarthritis_01\"] = beneficiary_data[\"ChronicCond_rheumatoidarthritis\"]-1\n",
    "beneficiary_data[\"ChronicCond_stroke_01\"] = beneficiary_data[\"ChronicCond_stroke\"]-1\n",
    "\n",
    "selected_features = [\n",
    "    #\"DOB\",\n",
    "    \"Deceased\",\n",
    "    \"Race\",\n",
    "    \"RenalDiseaseIndicator_01\",\n",
    "    \"State\",\n",
    "    \"Gender_01\",\n",
    "    \"ChronicCond_Alzheimer_01\",\n",
    "    \"ChronicCond_Heartfailure_01\",\n",
    "    \"ChronicCond_KidneyDisease_01\",\n",
    "    \"ChronicCond_Cancer_01\",\n",
    "    \"ChronicCond_ObstrPulmonary_01\",\n",
    "    \"ChronicCond_Depression_01\",\n",
    "    \"ChronicCond_Diabetes_01\",\n",
    "    \"ChronicCond_IschemicHeart_01\",\n",
    "    \"ChronicCond_Osteoporasis_01\",\n",
    "    \"ChronicCond_rheumatoidarthritis_01\",\n",
    "    \"ChronicCond_stroke_01\"\n",
    "]\n",
    "\n",
    "beneficiary_data[\"DOB\"] = pd.to_datetime(beneficiary_data[\"DOB\"])\n",
    "\n",
    "beneficiary_data = beneficiary_data[selected_features]\n",
    "beneficiary_data.head()"
   ]
  },
  {
   "cell_type": "code",
   "execution_count": 52,
   "id": "f19c94d0",
   "metadata": {},
   "outputs": [
    {
     "data": {
      "text/html": [
       "<div>\n",
       "<style scoped>\n",
       "    .dataframe tbody tr th:only-of-type {\n",
       "        vertical-align: middle;\n",
       "    }\n",
       "\n",
       "    .dataframe tbody tr th {\n",
       "        vertical-align: top;\n",
       "    }\n",
       "\n",
       "    .dataframe thead th {\n",
       "        text-align: right;\n",
       "    }\n",
       "</style>\n",
       "<table border=\"1\" class=\"dataframe\">\n",
       "  <thead>\n",
       "    <tr style=\"text-align: right;\">\n",
       "      <th></th>\n",
       "      <th>DurationStay</th>\n",
       "      <th>InscClaimAmtReimbursed</th>\n",
       "    </tr>\n",
       "    <tr>\n",
       "      <th>ClaimID</th>\n",
       "      <th></th>\n",
       "      <th></th>\n",
       "    </tr>\n",
       "  </thead>\n",
       "  <tbody>\n",
       "    <tr>\n",
       "      <th>CLM46614</th>\n",
       "      <td>6.0</td>\n",
       "      <td>26000</td>\n",
       "    </tr>\n",
       "    <tr>\n",
       "      <th>CLM66048</th>\n",
       "      <td>2.0</td>\n",
       "      <td>5000</td>\n",
       "    </tr>\n",
       "    <tr>\n",
       "      <th>CLM68358</th>\n",
       "      <td>3.0</td>\n",
       "      <td>5000</td>\n",
       "    </tr>\n",
       "    <tr>\n",
       "      <th>CLM38412</th>\n",
       "      <td>8.0</td>\n",
       "      <td>5000</td>\n",
       "    </tr>\n",
       "    <tr>\n",
       "      <th>CLM63689</th>\n",
       "      <td>17.0</td>\n",
       "      <td>10000</td>\n",
       "    </tr>\n",
       "  </tbody>\n",
       "</table>\n",
       "</div>"
      ],
      "text/plain": [
       "          DurationStay  InscClaimAmtReimbursed\n",
       "ClaimID                                       \n",
       "CLM46614           6.0                   26000\n",
       "CLM66048           2.0                    5000\n",
       "CLM68358           3.0                    5000\n",
       "CLM38412           8.0                    5000\n",
       "CLM63689          17.0                   10000"
      ]
     },
     "execution_count": 52,
     "metadata": {},
     "output_type": "execute_result"
    }
   ],
   "source": [
    "AllClaims[\"DurationStay\"] =pd.to_numeric(pd.to_datetime(AllClaims[\"ClaimEndDt\"])-pd.to_datetime(AllClaims[\"ClaimStartDt\"]))/86400000000000\n",
    "\n",
    "claim_data = AllClaims.set_index(\"ClaimID\")\n",
    "\n",
    "selected_features = [\n",
    "    \"DurationStay\",\n",
    "    \"InscClaimAmtReimbursed\"\n",
    "]\n",
    "\n",
    "claim_data[\"ClaimStartDt\"] = pd.to_datetime(claim_data[\"ClaimStartDt\"])\n",
    "\n",
    "claim_data = claim_data[selected_features]\n",
    "claim_data.head()"
   ]
  },
  {
   "cell_type": "markdown",
   "id": "b8353f40",
   "metadata": {},
   "source": [
    "The GraphSAGE implementation in StellarGraph requires to have features present for all nodes. However, both the providers and physicians do not have additional information. Therefore, we set their features equal to 1."
   ]
  },
  {
   "cell_type": "code",
   "execution_count": 53,
   "id": "26dab823",
   "metadata": {},
   "outputs": [],
   "source": [
    "provider_data = provider_nodes.copy(deep = False)\n",
    "provider_data[\"Feature\"] = 1 \n",
    "\n",
    "physician_data = physician_nodes.copy(deep = False)\n",
    "physician_data[\"Feature\"] = 1"
   ]
  },
  {
   "cell_type": "code",
   "execution_count": 54,
   "id": "bb0db1d3",
   "metadata": {},
   "outputs": [],
   "source": [
    "features = {\"beneficiary\": beneficiary_data, \"claim\": claim_data, \"provider\": provider_data, \"physician\": physician_data}"
   ]
  },
  {
   "cell_type": "code",
   "execution_count": 55,
   "id": "47d29249",
   "metadata": {},
   "outputs": [],
   "source": [
    "class GraphConstruction:\n",
    "    \n",
    "    \"\"\"\n",
    "    This class initializes a networkX graph\n",
    "    \n",
    "     Parameters\n",
    "    ----------\n",
    "    nodes : dict(str, iterable)\n",
    "        A dictionary with keys representing the node type, values representing\n",
    "        an iterable container of nodes (list, dict, set etc.)\n",
    "    edges : 2-tuples (u,v) or 3-tuples (u,v,d)\n",
    "        Each edge given in the container will be added to the graph. \n",
    "    features: dict(str, (str/dict/list/Dataframe)\n",
    "        A dictionary with keys representing node type, values representing the node\n",
    "        data.      \n",
    "    \n",
    "    \"\"\"\n",
    "    \n",
    "    g_nx = None\n",
    "    node_features = None\n",
    "    \n",
    "    def __init__(self, nodes, edges, features = None):\n",
    "        self.g_nx = nx.Graph()\n",
    "        self.add_nodes(nodes)\n",
    "        self.add_edges(edges)\n",
    "        \n",
    "        if features is not None:\n",
    "            self.node_features = features\n",
    "    \n",
    "    def add_nodes(self, nodes):\n",
    "        \n",
    "        for key, values in nodes.items():\n",
    "            self.g_nx.add_nodes_from(list(values.index), ntype=key)   \n",
    "            \n",
    "    def add_edges(self, edges):\n",
    "        \n",
    "        for edge in edges:\n",
    "            self.g_nx.add_edges_from(edge)\n",
    "            \n",
    "    def get_stellargraph(self):\n",
    "        return sg.StellarGraph.from_networkx(self.g_nx, node_type_attr=\"ntype\", node_features=self.node_features) #sg.StellarGraph.from_networkx(self.g_nx) \n",
    "    \n",
    "    def get_edgelist(self):\n",
    "        edgelist = []\n",
    "        for edge in nx.generate_edgelist(self.g_nx):\n",
    "            edgelist.append(str(edge).strip('{}'))\n",
    "        el = []\n",
    "        for edge in edgelist:\n",
    "            splitted = edge.split()\n",
    "            numeric = map(float,splitted)\n",
    "            el.append(list(numeric))\n",
    "        return el"
   ]
  },
  {
   "cell_type": "code",
   "execution_count": 56,
   "id": "d1f5bb30",
   "metadata": {},
   "outputs": [
    {
     "name": "stdout",
     "output_type": "stream",
     "text": [
      "StellarGraph: Undirected multigraph\n",
      " Nodes: 784241, Edges: 1674633\n",
      "\n",
      " Node types:\n",
      "  claim: [558211]\n",
      "    Features: float32 vector, length 2\n",
      "    Edge types: claim-default->beneficiary, claim-default->physician, claim-default->provider\n",
      "  beneficiary: [138556]\n",
      "    Features: float32 vector, length 16\n",
      "    Edge types: beneficiary-default->claim\n",
      "  physician: [82064]\n",
      "    Features: float32 vector, length 1\n",
      "    Edge types: physician-default->claim\n",
      "  provider: [5410]\n",
      "    Features: float32 vector, length 1\n",
      "    Edge types: provider-default->claim\n",
      "\n",
      " Edge types:\n",
      "    claim-default->provider: [558211]\n",
      "        Weights: all 1 (default)\n",
      "        Features: none\n",
      "    claim-default->physician: [558211]\n",
      "        Weights: all 1 (default)\n",
      "        Features: none\n",
      "    beneficiary-default->claim: [558211]\n",
      "        Weights: all 1 (default)\n",
      "        Features: none\n"
     ]
    }
   ],
   "source": [
    "graph = GraphConstruction(nodes, edges, features)\n",
    "S = graph.get_stellargraph()\n",
    "print(S.info())"
   ]
  },
  {
   "cell_type": "code",
   "execution_count": 57,
   "id": "bc38b252",
   "metadata": {},
   "outputs": [],
   "source": [
    "labels[\"Fraud\"] = [0 if x == \"No\" else 1 for x in labels[\"PotentialFraud\"]]\n",
    "labels\n",
    "labels_indexed = labels.set_index(\"Provider\")[[\"Fraud\"]]\n",
    "\n",
    "train_size = int(round(0.5 * len(y), 0))\n",
    "val_test_size = int(round(0.6 * len(y), 0)) - train_size"
   ]
  },
  {
   "cell_type": "code",
   "execution_count": 58,
   "id": "c3f75fa8",
   "metadata": {},
   "outputs": [],
   "source": [
    "train_subjects, test_subjects = train_test_split(\n",
    "    labels_indexed, train_size=train_size, test_size=None, stratify=labels_indexed\n",
    ")\n",
    "val_subjects, test_subjects = train_test_split(\n",
    "    test_subjects, train_size=val_test_size, test_size=None, stratify=test_subjects\n",
    ")"
   ]
  },
  {
   "cell_type": "code",
   "execution_count": 59,
   "id": "e3c1b942",
   "metadata": {},
   "outputs": [],
   "source": [
    "batch_size = 50\n",
    "epochs = 10\n",
    "\n",
    "num_samples = [2,32]\n",
    "embedding_node_type = \"provider\""
   ]
  },
  {
   "cell_type": "code",
   "execution_count": 60,
   "id": "b4d9e86d",
   "metadata": {
    "scrolled": false
   },
   "outputs": [
    {
     "name": "stderr",
     "output_type": "stream",
     "text": [
      "C:\\Users\\u0130626\\AppData\\Local\\Temp\\ipykernel_6880\\4138674367.py:6: DeprecationWarning: The 'build' method is deprecated, use 'in_out_tensors' instead.\n",
      "  x_inp, x_out = model.build()\n",
      "C:\\Users\\u0130626\\Anaconda3\\lib\\site-packages\\keras\\initializers\\initializers_v2.py:120: UserWarning: The initializer GlorotUniform is unseeded and being called multiple times, which will return identical values  each time (even if the initializer is unseeded). Please update your code to provide a seed to the initializer, or avoid using the same initalizer instance more than once.\n",
      "  warnings.warn(\n",
      "C:\\Users\\u0130626\\Anaconda3\\lib\\site-packages\\keras\\optimizers\\optimizer_v2\\adam.py:114: UserWarning: The `lr` argument is deprecated, use `learning_rate` instead.\n",
      "  super().__init__(name, **kwargs)\n"
     ]
    }
   ],
   "source": [
    "generator = HinSAGENodeGenerator(S, batch_size, num_samples, head_node_type = embedding_node_type)\n",
    "train_gen = generator.flow(train_subjects.index, train_subjects[\"Fraud\"])\n",
    "val_gen = generator.flow(val_subjects.index, val_subjects[\"Fraud\"])\n",
    "\n",
    "model = HinSAGE(layer_sizes = [64, 64], generator = generator, dropout=0)\n",
    "x_inp, x_out = model.build() \n",
    "prediction = layers.Dense(units=1, activation=\"sigmoid\", dtype='float32')(x_out)\n",
    "model = Model(inputs = x_inp, outputs=prediction)\n",
    "\n",
    "model.compile(\n",
    "    optimizer = optimizers.Adam(lr=1e-3),\n",
    "    loss=losses.binary_crossentropy,\n",
    "    metrics=[\"AUC\"],\n",
    ")"
   ]
  },
  {
   "cell_type": "code",
   "execution_count": 61,
   "id": "af0f900c",
   "metadata": {},
   "outputs": [],
   "source": [
    "from tensorflow.keras.callbacks import EarlyStopping\n",
    "\n",
    "es_callback = EarlyStopping(monitor=\"val_auc\", patience=5, restore_best_weights=True)\n",
    "\n",
    "import sklearn\n",
    "# Calculate the weights for each class so that we can balance the data\n",
    "weights = sklearn.utils.class_weight.compute_class_weight('balanced',\n",
    "                                            classes = np.unique(labels[\"Fraud\"]),\n",
    "                                            y = labels[\"Fraud\"].values)\n",
    "\n",
    "class_weight = {0: weights[0], 1: weights[1]}"
   ]
  },
  {
   "cell_type": "code",
   "execution_count": 62,
   "id": "8ab7d6e3",
   "metadata": {},
   "outputs": [
    {
     "name": "stdout",
     "output_type": "stream",
     "text": [
      "Epoch 1/50\n",
      "54/54 - 2s - loss: 0.6916 - auc: 0.5158 - val_loss: 0.6812 - val_auc: 0.5854 - 2s/epoch - 36ms/step\n",
      "Epoch 2/50\n",
      "54/54 - 1s - loss: 0.6865 - auc: 0.5579 - val_loss: 0.6726 - val_auc: 0.6408 - 621ms/epoch - 11ms/step\n",
      "Epoch 3/50\n",
      "54/54 - 1s - loss: 0.6847 - auc: 0.5680 - val_loss: 0.6624 - val_auc: 0.6561 - 540ms/epoch - 10ms/step\n",
      "Epoch 4/50\n",
      "54/54 - 1s - loss: 0.6811 - auc: 0.6036 - val_loss: 0.6489 - val_auc: 0.7135 - 625ms/epoch - 12ms/step\n",
      "Epoch 5/50\n",
      "54/54 - 1s - loss: 0.6779 - auc: 0.6092 - val_loss: 0.6281 - val_auc: 0.7330 - 591ms/epoch - 11ms/step\n",
      "Epoch 6/50\n",
      "54/54 - 1s - loss: 0.6883 - auc: 0.5840 - val_loss: 0.6391 - val_auc: 0.6439 - 549ms/epoch - 10ms/step\n",
      "Epoch 7/50\n",
      "54/54 - 1s - loss: 0.6838 - auc: 0.5958 - val_loss: 0.6449 - val_auc: 0.6530 - 505ms/epoch - 9ms/step\n",
      "Epoch 8/50\n",
      "54/54 - 1s - loss: 0.6835 - auc: 0.5892 - val_loss: 0.6514 - val_auc: 0.6017 - 547ms/epoch - 10ms/step\n",
      "Epoch 9/50\n",
      "54/54 - 1s - loss: 0.6717 - auc: 0.6361 - val_loss: 0.6316 - val_auc: 0.6681 - 520ms/epoch - 10ms/step\n",
      "Epoch 10/50\n",
      "54/54 - 1s - loss: 0.6690 - auc: 0.6298 - val_loss: 0.6168 - val_auc: 0.7055 - 570ms/epoch - 11ms/step\n"
     ]
    }
   ],
   "source": [
    "history = model.fit(\n",
    "    train_gen, \n",
    "    epochs = 50, \n",
    "    validation_data = val_gen,\n",
    "    shuffle=False, # this should be False, since shuffling data means shuffling the whole graph\n",
    "    verbose = 2,\n",
    "    callbacks=[es_callback],\n",
    "    class_weight=class_weight,\n",
    ")"
   ]
  },
  {
   "cell_type": "code",
   "execution_count": 63,
   "id": "8032fca1",
   "metadata": {},
   "outputs": [
    {
     "name": "stdout",
     "output_type": "stream",
     "text": [
      "44/44 [==============================] - 0s 8ms/step - loss: 0.6320 - auc: 0.6266\n",
      "\n",
      "Test Set Metrics:\n",
      "\tloss: 0.6320\n",
      "\tauc: 0.6266\n"
     ]
    }
   ],
   "source": [
    "test_gen =generator.flow(test_subjects.index, test_subjects[\"Fraud\"])\n",
    "\n",
    "test_metrics = model.evaluate(test_gen)\n",
    "print(\"\\nTest Set Metrics:\")\n",
    "for name, val in zip(model.metrics_names, test_metrics):\n",
    "    print(\"\\t{}: {:0.4f}\".format(name, val))"
   ]
  },
  {
   "cell_type": "code",
   "execution_count": 64,
   "id": "480cefd4",
   "metadata": {},
   "outputs": [
    {
     "name": "stdout",
     "output_type": "stream",
     "text": [
      "44/44 [==============================] - 1s 8ms/step\n"
     ]
    }
   ],
   "source": [
    "test_predictions = model.predict(test_gen)"
   ]
  },
  {
   "cell_type": "code",
   "execution_count": 65,
   "id": "c0e3f853",
   "metadata": {},
   "outputs": [],
   "source": [
    "df = pd.DataFrame({\n",
    "    \"Subject\": test_subjects.index, \n",
    "    \"Label\": test_subjects[\"Fraud\"],\n",
    "    \"Predicted\": test_predictions.squeeze()\n",
    "})\n",
    "\n",
    "y_test = df[\"Label\"]\n",
    "y_pred_sage = df[\"Predicted\"]"
   ]
  },
  {
   "cell_type": "code",
   "execution_count": 66,
   "id": "e719f750",
   "metadata": {},
   "outputs": [
    {
     "data": {
      "text/plain": [
       "Text(0.5, 1.0, 'AUC: 0.643')"
      ]
     },
     "execution_count": 66,
     "metadata": {},
     "output_type": "execute_result"
    },
    {
     "data": {
      "image/png": "[encoded data removed]",
      "text/plain": [
       "<Figure size 640x480 with 1 Axes>"
      ]
     },
     "metadata": {},
     "output_type": "display_data"
    }
   ],
   "source": [
    "fpr_sage, tpr_sage, thresholds = sklearn.metrics.roc_curve(y_test, y_pred_sage)\n",
    "plt.plot(fpr_sage, tpr_sage)\n",
    "plt.plot([0,1],[0,1], color = \"grey\", alpha =0.5)\n",
    "plt.title(\"AUC: \" + str(np.round(sklearn.metrics.auc(fpr_sage, tpr_sage), 3)))"
   ]
  },
  {
   "cell_type": "code",
   "execution_count": 67,
   "id": "6bd553e3",
   "metadata": {},
   "outputs": [
    {
     "data": {
      "text/plain": [
       "<matplotlib.legend.Legend at 0x241fdd5dca0>"
      ]
     },
     "execution_count": 67,
     "metadata": {},
     "output_type": "execute_result"
    },
    {
     "data": {
      "image/png": "[encoded data removed]",
      "text/plain": [
       "<Figure size 640x480 with 1 Axes>"
      ]
     },
     "metadata": {},
     "output_type": "display_data"
    }
   ],
   "source": [
    "precision_sage, recall_sage, thresholds = sklearn.metrics.precision_recall_curve(y_test, y_pred_sage)\n",
    "AP_sage = np.round(sklearn.metrics.average_precision_score(y_test, y_pred_sage), 3)\n",
    "plt.plot(recall_sage, precision_sage, label = str(AP_sage), alpha =0.7)\n",
    "plt.title(\"Average Precision\")\n",
    "plt.legend()"
   ]
  },
  {
   "cell_type": "code",
   "execution_count": 68,
   "id": "17f2615d",
   "metadata": {},
   "outputs": [
    {
     "data": {
      "text/plain": [
       "Text(0.5, 1.0, 'Lift Curve')"
      ]
     },
     "execution_count": 68,
     "metadata": {},
     "output_type": "execute_result"
    },
    {
     "data": {
      "image/png": "[encoded data removed]",
      "text/plain": [
       "<Figure size 640x480 with 1 Axes>"
      ]
     },
     "metadata": {},
     "output_type": "display_data"
    }
   ],
   "source": [
    "steps = np.arange(start = 0.05, stop = 1, step = 0.001)\n",
    "lft_sage = Metrics.lift_curve_values(y_test, y_pred_sage, steps)\n",
    "plt.plot(steps, lft_cen, alpha = 0.7)\n",
    "plt.title(\"Lift Curve\")"
   ]
  },
  {
   "cell_type": "markdown",
   "id": "5e0da012",
   "metadata": {},
   "source": [
    "### Putting Everything Together"
   ]
  },
  {
   "cell_type": "markdown",
   "id": "0de59c40",
   "metadata": {},
   "source": [
    "This final part of the demo puts all results together. In this way, we can use the different performance metric to compare the models with each other. "
   ]
  },
  {
   "cell_type": "code",
   "execution_count": 69,
   "id": "9a4763ee",
   "metadata": {},
   "outputs": [
    {
     "data": {
      "image/png": "[encoded data removed]",
      "text/plain": [
       "<Figure size 640x480 with 1 Axes>"
      ]
     },
     "metadata": {},
     "output_type": "display_data"
    }
   ],
   "source": [
    "plt.plot(fpr_cen, tpr_cen, alpha = 0.7, label =  \"Simple Network Features: \" + str(np.round(sklearn.metrics.auc(fpr_cen, tpr_cen), 3)))\n",
    "plt.plot(fpr_bi, tpr_bi, alpha = 0.7, label =  \"BiRank: \" + str(np.round(sklearn.metrics.auc(fpr_bi, tpr_bi), 3)))\n",
    "plt.plot(fpr_meta, tpr_meta, alpha = 0.7, label =  \"Metapath2Vec: \" + str(np.round(sklearn.metrics.auc(fpr_meta, tpr_meta), 3)))\n",
    "plt.plot(fpr_sage, tpr_sage, alpha = 0.7, label =  \"GraphSAGE: \" + str(np.round(sklearn.metrics.auc(fpr_sage, tpr_sage), 3)))\n",
    "plt.plot([0, 1], [0, 1], color=\"grey\", alpha=0.5)\n",
    "plt.title(\"AUC\")\n",
    "plt.legend()\n",
    "plt.savefig(\"AUC_health.pdf\")"
   ]
  },
  {
   "cell_type": "code",
   "execution_count": 70,
   "id": "eddb49a9",
   "metadata": {},
   "outputs": [
    {
     "data": {
      "image/png": "[encoded data removed]",
      "text/plain": [
       "<Figure size 640x480 with 1 Axes>"
      ]
     },
     "metadata": {},
     "output_type": "display_data"
    }
   ],
   "source": [
    "plt.plot(recall_cen,precision_cen, alpha = 0.7, label =  \"Simple Network Features: \" + str(AP_cen))\n",
    "plt.plot(recall_bi,precision_bi, alpha = 0.7, label =  \"BiRank: \" + str(AP_bi))\n",
    "plt.plot(recall_meta,precision_meta, alpha =0.7, label =  \"Metapath2Vec: \" + str(AP_meta))\n",
    "plt.plot(recall_sage,precision_sage, alpha =0.7, label =  \"GraphSAGE: \" + str(AP_sage))\n",
    "plt.title(\"Avergage Precision\")\n",
    "plt.legend()\n",
    "plt.savefig(\"AP_health.pdf\")"
   ]
  },
  {
   "cell_type": "code",
   "execution_count": 71,
   "id": "cb4ab03b",
   "metadata": {},
   "outputs": [
    {
     "data": {
      "image/png": "[encoded data removed]",
      "text/plain": [
       "<Figure size 640x480 with 1 Axes>"
      ]
     },
     "metadata": {},
     "output_type": "display_data"
    }
   ],
   "source": [
    "plt.plot(steps,lft_cen, alpha = 0.7, label =  \"Simple Network Features\")\n",
    "plt.plot(steps,lft_bi, alpha = 0.7, label =  \"BiRank\")\n",
    "plt.plot(steps,lft_meta, alpha =0.7, label =  \"Metapath2Vec\")\n",
    "plt.plot(steps,lft_sage, alpha =0.7, label =  \"GraphSAGE\")\n",
    "plt.title(\"Lift Curve\")\n",
    "plt.legend()\n",
    "plt.savefig(\"Lift_health.pdf\")"
   ]
  },
  {
   "cell_type": "markdown",
   "id": "37a0354f",
   "metadata": {},
   "source": [
    "From these figures, we can conclude that the simple network features seem to be competitive and sometimes outperform the models based on more complex, and less interpretable, network embeddings. "
   ]
  },
  {
   "cell_type": "code",
   "execution_count": null,
   "id": "f37c5a41",
   "metadata": {},
   "outputs": [],
   "source": []
  }
 ],
 "metadata": {
  "kernelspec": {
   "display_name": "Python 3 (ipykernel)",
   "language": "python",
   "name": "python3"
  },
  "language_info": {
   "codemirror_mode": {
    "name": "ipython",
    "version": 3
   },
   "file_extension": ".py",
   "mimetype": "text/x-python",
   "name": "python",
   "nbconvert_exporter": "python",
   "pygments_lexer": "ipython3",
   "version": "3.9.13"
  }
 },
 "nbformat": 4,
 "nbformat_minor": 5
}
